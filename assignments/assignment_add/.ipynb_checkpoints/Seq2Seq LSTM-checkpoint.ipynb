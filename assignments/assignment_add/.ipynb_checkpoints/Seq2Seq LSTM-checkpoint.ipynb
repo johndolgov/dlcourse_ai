{
 "cells": [
  {
   "cell_type": "code",
   "execution_count": 2,
   "metadata": {},
   "outputs": [],
   "source": [
    "from lstm_model import *"
   ]
  },
  {
   "cell_type": "code",
   "execution_count": 3,
   "metadata": {},
   "outputs": [],
   "source": [
    "def create_datasets(dict_size, seq_len, train_data_size, val_data_size):\n",
    "    return Dataset(dict_size, seq_len, train_data_size, val_data_size).data()"
   ]
  },
  {
   "cell_type": "code",
   "execution_count": 4,
   "metadata": {},
   "outputs": [],
   "source": [
    "train_X, train_y, val_X, val_y = create_datasets(15, 4, 5, 4)"
   ]
  },
  {
   "cell_type": "code",
   "execution_count": 5,
   "metadata": {},
   "outputs": [
    {
     "data": {
      "text/plain": [
       "array([[ 7,  2, 11,  8],\n",
       "       [ 7,  7, 12,  9],\n",
       "       [ 2,  6,  0,  2],\n",
       "       [11,  1,  2, 12],\n",
       "       [ 2, 14,  8,  8]])"
      ]
     },
     "execution_count": 5,
     "metadata": {},
     "output_type": "execute_result"
    }
   ],
   "source": [
    "train_X"
   ]
  },
  {
   "cell_type": "code",
   "execution_count": 6,
   "metadata": {},
   "outputs": [
    {
     "data": {
      "text/plain": [
       "array([[ 2,  7,  8, 11],\n",
       "       [ 7,  7,  9, 12],\n",
       "       [ 0,  2,  2,  6],\n",
       "       [ 1,  2, 11, 12],\n",
       "       [ 2,  8,  8, 14]])"
      ]
     },
     "execution_count": 6,
     "metadata": {},
     "output_type": "execute_result"
    }
   ],
   "source": [
    "train_y"
   ]
  },
  {
   "cell_type": "code",
   "execution_count": 7,
   "metadata": {},
   "outputs": [
    {
     "data": {
      "text/plain": [
       "array([[10, 14,  9,  4],\n",
       "       [ 3, 13,  4, 11],\n",
       "       [ 6,  3,  7,  7],\n",
       "       [ 9, 12,  6,  8]])"
      ]
     },
     "execution_count": 7,
     "metadata": {},
     "output_type": "execute_result"
    }
   ],
   "source": [
    "val_X"
   ]
  },
  {
   "cell_type": "code",
   "execution_count": 8,
   "metadata": {},
   "outputs": [
    {
     "data": {
      "text/plain": [
       "array([[ 4,  9, 10, 14],\n",
       "       [ 3,  4, 11, 13],\n",
       "       [ 3,  6,  7,  7],\n",
       "       [ 6,  8,  9, 12]])"
      ]
     },
     "execution_count": 8,
     "metadata": {},
     "output_type": "execute_result"
    }
   ],
   "source": [
    "val_y"
   ]
  },
  {
   "cell_type": "code",
   "execution_count": 9,
   "metadata": {},
   "outputs": [],
   "source": [
    "dataset = Dataset(15, 4, 5, 4)"
   ]
  },
  {
   "cell_type": "code",
   "execution_count": 10,
   "metadata": {},
   "outputs": [
    {
     "data": {
      "text/plain": [
       "array([[2, 0],\n",
       "       [2, 1],\n",
       "       [2, 1],\n",
       "       ...,\n",
       "       [2, 0],\n",
       "       [1, 2],\n",
       "       [1, 2]])"
      ]
     },
     "execution_count": 10,
     "metadata": {},
     "output_type": "execute_result"
    }
   ],
   "source": [
    "dataset = Dataset(3, 2, 1000, 4)\n",
    "dataset.train_X"
   ]
  },
  {
   "cell_type": "code",
   "execution_count": 15,
   "metadata": {},
   "outputs": [
    {
     "name": "stdout",
     "output_type": "stream",
     "text": [
      "Epoch: 0, Loss: 1.732156396106109, Train accuracy: 0.0769, Val accuracy: 0.3125 \n",
      "Epoch: 1, Loss: 1.2235484600154591, Train accuracy: 0.06739999999999999, Val accuracy: 0.3125 \n",
      "Epoch: 2, Loss: 1.1567853970296285, Train accuracy: 0.0716, Val accuracy: 0.3125 \n",
      "Epoch: 3, Loss: 2.4043993504614622, Train accuracy: 0.0808, Val accuracy: 0.1875 \n",
      "Epoch: 4, Loss: 3.448515204000415, Train accuracy: 0.0888, Val accuracy: 0.0 \n",
      "Epoch: 5, Loss: 1.056828607183219, Train accuracy: 0.09430000000000001, Val accuracy: 0.0 \n",
      "Epoch: 6, Loss: 1.2176634721824025, Train accuracy: 0.0989, Val accuracy: 0.0625 \n",
      "Epoch: 7, Loss: 2.353725347959367, Train accuracy: 0.0815, Val accuracy: 0.0 \n",
      "Epoch: 8, Loss: 0.891419081781562, Train accuracy: 0.0825, Val accuracy: 0.0 \n",
      "Epoch: 9, Loss: 2.6269738252541663, Train accuracy: 0.07859999999999999, Val accuracy: 0.0 \n",
      "Epoch: 10, Loss: 1.2224195895499823, Train accuracy: 0.07419999999999999, Val accuracy: 0.0 \n",
      "Epoch: 11, Loss: 0.7840680015999204, Train accuracy: 0.0788, Val accuracy: 0.1875 \n",
      "Epoch: 12, Loss: 0.7954056699244884, Train accuracy: 0.0933, Val accuracy: 0.3125 \n",
      "Epoch: 13, Loss: 0.8447854301094273, Train accuracy: 0.08079999999999998, Val accuracy: 0.3125 \n",
      "Epoch: 14, Loss: 1.1192930525637041, Train accuracy: 0.06839999999999999, Val accuracy: 0.3125 \n",
      "Epoch: 15, Loss: 2.191095655931231, Train accuracy: 0.07889999999999998, Val accuracy: 0.3125 \n",
      "Epoch: 16, Loss: 2.086607978484315, Train accuracy: 0.0765, Val accuracy: 0.3125 \n",
      "Epoch: 17, Loss: 1.79599892442564, Train accuracy: 0.09049999999999997, Val accuracy: 0.1875 \n",
      "Epoch: 18, Loss: 1.6548279194881486, Train accuracy: 0.0958, Val accuracy: 0.3125 \n",
      "Epoch: 19, Loss: 1.0181186227255834, Train accuracy: 0.09510000000000002, Val accuracy: 0.1875 \n",
      "Epoch: 20, Loss: 1.0419617273549953, Train accuracy: 0.08809999999999998, Val accuracy: 0.375 \n",
      "Epoch: 21, Loss: 1.3619883628117362, Train accuracy: 0.08990000000000001, Val accuracy: 0.3125 \n",
      "Epoch: 22, Loss: 1.310391562339766, Train accuracy: 0.0855, Val accuracy: 0.375 \n",
      "Epoch: 23, Loss: 1.6015138292354107, Train accuracy: 0.08449999999999999, Val accuracy: 0.3125 \n",
      "Epoch: 24, Loss: 1.426078309686582, Train accuracy: 0.08940000000000001, Val accuracy: 0.375 \n",
      "Epoch: 25, Loss: 0.9539734644604768, Train accuracy: 0.08989999999999998, Val accuracy: 0.3125 \n",
      "Epoch: 26, Loss: 0.9698420359524, Train accuracy: 0.0828, Val accuracy: 0.3125 \n",
      "Epoch: 27, Loss: 0.7274760287514266, Train accuracy: 0.08200000000000002, Val accuracy: 0.3125 \n",
      "Epoch: 28, Loss: 0.7102812726540196, Train accuracy: 0.0809, Val accuracy: 0.3125 \n",
      "Epoch: 29, Loss: 0.7330959238571814, Train accuracy: 0.0801, Val accuracy: 0.25 \n",
      "Epoch: 30, Loss: 0.7470150932807306, Train accuracy: 0.0808, Val accuracy: 0.3125 \n",
      "Epoch: 31, Loss: 0.6631963184567984, Train accuracy: 0.08650000000000001, Val accuracy: 0.3125 \n",
      "Epoch: 32, Loss: 0.6803240906069812, Train accuracy: 0.08800000000000001, Val accuracy: 0.3125 \n",
      "Epoch: 33, Loss: 0.6805012130213629, Train accuracy: 0.08549999999999999, Val accuracy: 0.3125 \n",
      "Epoch: 34, Loss: 0.6503602612186387, Train accuracy: 0.08280000000000001, Val accuracy: 0.3125 \n",
      "Epoch: 35, Loss: 0.628509794930876, Train accuracy: 0.08479999999999999, Val accuracy: 0.3125 \n",
      "Epoch: 36, Loss: 0.6120698561910396, Train accuracy: 0.08520000000000001, Val accuracy: 0.3125 \n",
      "Epoch: 37, Loss: 0.6068905766953867, Train accuracy: 0.08410000000000001, Val accuracy: 0.25 \n",
      "Epoch: 38, Loss: 0.6214779467382607, Train accuracy: 0.08299999999999998, Val accuracy: 0.3125 \n",
      "Epoch: 39, Loss: 0.6287705317805795, Train accuracy: 0.08479999999999999, Val accuracy: 0.3125 \n",
      "Epoch: 40, Loss: 0.6379018360720586, Train accuracy: 0.08559999999999998, Val accuracy: 0.3125 \n",
      "Epoch: 41, Loss: 0.6847791539679605, Train accuracy: 0.08400000000000002, Val accuracy: 0.3125 \n",
      "Epoch: 42, Loss: 0.6820679763772074, Train accuracy: 0.0863, Val accuracy: 0.25 \n",
      "Epoch: 43, Loss: 0.6276935976162751, Train accuracy: 0.08549999999999999, Val accuracy: 0.3125 \n",
      "Epoch: 44, Loss: 0.5992175852006454, Train accuracy: 0.08689999999999999, Val accuracy: 0.25 \n",
      "Epoch: 45, Loss: 0.5930126605415382, Train accuracy: 0.08819999999999999, Val accuracy: 0.3125 \n",
      "Epoch: 46, Loss: 0.5936930409889926, Train accuracy: 0.08759999999999998, Val accuracy: 0.3125 \n",
      "Epoch: 47, Loss: 0.5866041011728204, Train accuracy: 0.0873, Val accuracy: 0.3125 \n",
      "Epoch: 48, Loss: 0.5866458205574141, Train accuracy: 0.0891, Val accuracy: 0.3125 \n",
      "Epoch: 49, Loss: 0.5836458522185985, Train accuracy: 0.08779999999999999, Val accuracy: 0.3125 \n",
      "Epoch: 50, Loss: 0.5840679640814427, Train accuracy: 0.088, Val accuracy: 0.3125 \n",
      "Epoch: 51, Loss: 0.5784403803665991, Train accuracy: 0.09139999999999998, Val accuracy: 0.3125 \n",
      "Epoch: 52, Loss: 0.5816399828454173, Train accuracy: 0.0862, Val accuracy: 0.25 \n",
      "Epoch: 53, Loss: 0.5827022501757938, Train accuracy: 0.09230000000000001, Val accuracy: 0.3125 \n",
      "Epoch: 54, Loss: 0.5786443007025448, Train accuracy: 0.0904, Val accuracy: 0.3125 \n",
      "Epoch: 55, Loss: 0.5804870222574783, Train accuracy: 0.0902, Val accuracy: 0.3125 \n",
      "Epoch: 56, Loss: 0.5753277102166406, Train accuracy: 0.09190000000000001, Val accuracy: 0.3125 \n",
      "Epoch: 57, Loss: 0.5763919063010681, Train accuracy: 0.0909, Val accuracy: 0.3125 \n",
      "Epoch: 58, Loss: 0.5785613350432854, Train accuracy: 0.08879999999999999, Val accuracy: 0.25 \n",
      "Epoch: 59, Loss: 0.576581852237104, Train accuracy: 0.0901, Val accuracy: 0.3125 \n",
      "Epoch: 60, Loss: 0.5739981460454385, Train accuracy: 0.08800000000000001, Val accuracy: 0.3125 \n",
      "Epoch: 61, Loss: 0.5754348042810146, Train accuracy: 0.09269999999999999, Val accuracy: 0.3125 \n",
      "Epoch: 62, Loss: 0.5745196329050954, Train accuracy: 0.0933, Val accuracy: 0.3125 \n",
      "Epoch: 63, Loss: 0.5752019907404076, Train accuracy: 0.09050000000000001, Val accuracy: 0.3125 \n",
      "Epoch: 64, Loss: 0.5745737859914568, Train accuracy: 0.08969999999999997, Val accuracy: 0.1875 \n",
      "Epoch: 65, Loss: 0.5750153200844523, Train accuracy: 0.09049999999999998, Val accuracy: 0.3125 \n",
      "Epoch: 66, Loss: 0.5752811145932697, Train accuracy: 0.0895, Val accuracy: 0.3125 \n",
      "Epoch: 67, Loss: 0.5741624943399879, Train accuracy: 0.09079999999999998, Val accuracy: 0.3125 \n",
      "Epoch: 68, Loss: 0.574578826601415, Train accuracy: 0.09450000000000001, Val accuracy: 0.3125 \n",
      "Epoch: 69, Loss: 0.5749007487477819, Train accuracy: 0.0879, Val accuracy: 0.125 \n"
     ]
    },
    {
     "ename": "KeyboardInterrupt",
     "evalue": "",
     "output_type": "error",
     "traceback": [
      "\u001b[0;31m---------------------------------------------------------------------------\u001b[0m",
      "\u001b[0;31mKeyboardInterrupt\u001b[0m                         Traceback (most recent call last)",
      "\u001b[0;32m<ipython-input-15-49cecc5f06ff>\u001b[0m in \u001b[0;36m<module>\u001b[0;34m\u001b[0m\n\u001b[1;32m      3\u001b[0m \u001b[0mtrainer\u001b[0m \u001b[0;34m=\u001b[0m \u001b[0mTrainer\u001b[0m\u001b[0;34m(\u001b[0m\u001b[0mmodel\u001b[0m\u001b[0;34m,\u001b[0m \u001b[0mdataset\u001b[0m\u001b[0;34m,\u001b[0m \u001b[0mSGD\u001b[0m\u001b[0;34m(\u001b[0m\u001b[0;34m)\u001b[0m\u001b[0;34m,\u001b[0m \u001b[0mbatch_size\u001b[0m\u001b[0;34m=\u001b[0m\u001b[0;36m10\u001b[0m\u001b[0;34m,\u001b[0m \u001b[0mlearning_rate\u001b[0m\u001b[0;34m=\u001b[0m\u001b[0;36m1e-1\u001b[0m\u001b[0;34m,\u001b[0m \u001b[0mlearning_rate_decay\u001b[0m\u001b[0;34m=\u001b[0m\u001b[0;36m0.9\u001b[0m\u001b[0;34m,\u001b[0m \u001b[0mnum_epochs\u001b[0m \u001b[0;34m=\u001b[0m \u001b[0;36m5000\u001b[0m\u001b[0;34m)\u001b[0m\u001b[0;34m\u001b[0m\u001b[0;34m\u001b[0m\u001b[0m\n\u001b[1;32m      4\u001b[0m \u001b[0;34m\u001b[0m\u001b[0m\n\u001b[0;32m----> 5\u001b[0;31m \u001b[0mloss_history\u001b[0m\u001b[0;34m,\u001b[0m \u001b[0mtrain_history\u001b[0m\u001b[0;34m,\u001b[0m \u001b[0mval_history\u001b[0m \u001b[0;34m=\u001b[0m \u001b[0mtrainer\u001b[0m\u001b[0;34m.\u001b[0m\u001b[0mfit\u001b[0m\u001b[0;34m(\u001b[0m\u001b[0;34m)\u001b[0m\u001b[0;34m\u001b[0m\u001b[0;34m\u001b[0m\u001b[0m\n\u001b[0m",
      "\u001b[0;32m~/work'n'stuff/CSC/dlcourse_ai/assignments/assignment_jb/lstm_model.py\u001b[0m in \u001b[0;36mfit\u001b[0;34m(self)\u001b[0m\n\u001b[1;32m    400\u001b[0m                 \u001b[0;31m#print(self.model.W_f.grad)\u001b[0m\u001b[0;34m\u001b[0m\u001b[0;34m\u001b[0m\u001b[0;34m\u001b[0m\u001b[0m\n\u001b[1;32m    401\u001b[0m                 \u001b[0;32mfor\u001b[0m \u001b[0mind\u001b[0m\u001b[0;34m,\u001b[0m \u001b[0mX\u001b[0m \u001b[0;32min\u001b[0m \u001b[0menumerate\u001b[0m\u001b[0;34m(\u001b[0m\u001b[0mbatch_X\u001b[0m\u001b[0;34m)\u001b[0m\u001b[0;34m:\u001b[0m\u001b[0;34m\u001b[0m\u001b[0;34m\u001b[0m\u001b[0m\n\u001b[0;32m--> 402\u001b[0;31m                     \u001b[0mloss\u001b[0m\u001b[0;34m.\u001b[0m\u001b[0mappend\u001b[0m\u001b[0;34m(\u001b[0m\u001b[0mself\u001b[0m\u001b[0;34m.\u001b[0m\u001b[0mmodel\u001b[0m\u001b[0;34m.\u001b[0m\u001b[0mcompute_loss_and_gradients\u001b[0m\u001b[0;34m(\u001b[0m\u001b[0mX\u001b[0m\u001b[0;34m,\u001b[0m \u001b[0mbatch_y\u001b[0m\u001b[0;34m[\u001b[0m\u001b[0mind\u001b[0m\u001b[0;34m]\u001b[0m\u001b[0;34m)\u001b[0m\u001b[0;34m)\u001b[0m\u001b[0;34m\u001b[0m\u001b[0;34m\u001b[0m\u001b[0m\n\u001b[0m\u001b[1;32m    403\u001b[0m                 \u001b[0;31m#print(self.model.W_f.grad)\u001b[0m\u001b[0;34m\u001b[0m\u001b[0;34m\u001b[0m\u001b[0;34m\u001b[0m\u001b[0m\n\u001b[1;32m    404\u001b[0m \u001b[0;34m\u001b[0m\u001b[0m\n",
      "\u001b[0;32m~/work'n'stuff/CSC/dlcourse_ai/assignments/assignment_jb/lstm_model.py\u001b[0m in \u001b[0;36mcompute_loss_and_gradients\u001b[0;34m(self, X, y)\u001b[0m\n\u001b[1;32m    248\u001b[0m         \u001b[0mout\u001b[0m \u001b[0;34m=\u001b[0m \u001b[0mself\u001b[0m\u001b[0;34m.\u001b[0m\u001b[0mforward\u001b[0m\u001b[0;34m(\u001b[0m\u001b[0mX\u001b[0m\u001b[0;34m)\u001b[0m\u001b[0;34m\u001b[0m\u001b[0;34m\u001b[0m\u001b[0m\n\u001b[1;32m    249\u001b[0m         \u001b[0mloss\u001b[0m\u001b[0;34m,\u001b[0m \u001b[0md_out\u001b[0m \u001b[0;34m=\u001b[0m \u001b[0msoftmax_with_cross_entropy\u001b[0m\u001b[0;34m(\u001b[0m\u001b[0mout\u001b[0m\u001b[0;34m,\u001b[0m \u001b[0my\u001b[0m\u001b[0;34m)\u001b[0m\u001b[0;34m\u001b[0m\u001b[0;34m\u001b[0m\u001b[0m\n\u001b[0;32m--> 250\u001b[0;31m         \u001b[0mself\u001b[0m\u001b[0;34m.\u001b[0m\u001b[0mbackward\u001b[0m\u001b[0;34m(\u001b[0m\u001b[0md_out\u001b[0m\u001b[0;34m)\u001b[0m\u001b[0;34m\u001b[0m\u001b[0;34m\u001b[0m\u001b[0m\n\u001b[0m\u001b[1;32m    251\u001b[0m         \u001b[0;32mreturn\u001b[0m \u001b[0mloss\u001b[0m\u001b[0;34m\u001b[0m\u001b[0;34m\u001b[0m\u001b[0m\n\u001b[1;32m    252\u001b[0m \u001b[0;34m\u001b[0m\u001b[0m\n",
      "\u001b[0;32m~/work'n'stuff/CSC/dlcourse_ai/assignments/assignment_jb/lstm_model.py\u001b[0m in \u001b[0;36mbackward\u001b[0;34m(self, d_out)\u001b[0m\n\u001b[1;32m    173\u001b[0m \u001b[0;34m\u001b[0m\u001b[0m\n\u001b[1;32m    174\u001b[0m             \u001b[0mC\u001b[0m\u001b[0;34m.\u001b[0m\u001b[0mgrad\u001b[0m \u001b[0;34m=\u001b[0m \u001b[0mnp\u001b[0m\u001b[0;34m.\u001b[0m\u001b[0mcopy\u001b[0m\u001b[0;34m(\u001b[0m\u001b[0mdc_next\u001b[0m\u001b[0;34m)\u001b[0m\u001b[0;34m\u001b[0m\u001b[0;34m\u001b[0m\u001b[0m\n\u001b[0;32m--> 175\u001b[0;31m             \u001b[0mC\u001b[0m\u001b[0;34m.\u001b[0m\u001b[0mgrad\u001b[0m \u001b[0;34m+=\u001b[0m \u001b[0mh\u001b[0m\u001b[0;34m.\u001b[0m\u001b[0mgrad\u001b[0m\u001b[0;34m*\u001b[0m\u001b[0mout\u001b[0m\u001b[0;34m.\u001b[0m\u001b[0mvalue\u001b[0m\u001b[0;34m*\u001b[0m\u001b[0mbackward_tanh\u001b[0m\u001b[0;34m(\u001b[0m\u001b[0mtanh\u001b[0m\u001b[0;34m(\u001b[0m\u001b[0mC\u001b[0m\u001b[0;34m.\u001b[0m\u001b[0mvalue\u001b[0m\u001b[0;34m)\u001b[0m\u001b[0;34m)\u001b[0m\u001b[0;34m\u001b[0m\u001b[0;34m\u001b[0m\u001b[0m\n\u001b[0m\u001b[1;32m    176\u001b[0m             \u001b[0mC_hat\u001b[0m\u001b[0;34m.\u001b[0m\u001b[0mgrad\u001b[0m \u001b[0;34m=\u001b[0m \u001b[0mC\u001b[0m\u001b[0;34m.\u001b[0m\u001b[0mgrad\u001b[0m \u001b[0;34m*\u001b[0m \u001b[0mit\u001b[0m\u001b[0;34m.\u001b[0m\u001b[0mvalue\u001b[0m\u001b[0;34m\u001b[0m\u001b[0;34m\u001b[0m\u001b[0m\n\u001b[1;32m    177\u001b[0m             \u001b[0mC_hat\u001b[0m\u001b[0;34m.\u001b[0m\u001b[0mgrad\u001b[0m \u001b[0;34m=\u001b[0m \u001b[0mbackward_tanh\u001b[0m\u001b[0;34m(\u001b[0m\u001b[0mC_hat\u001b[0m\u001b[0;34m.\u001b[0m\u001b[0mvalue\u001b[0m\u001b[0;34m)\u001b[0m\u001b[0;34m*\u001b[0m\u001b[0mC_hat\u001b[0m\u001b[0;34m.\u001b[0m\u001b[0mgrad\u001b[0m\u001b[0;34m\u001b[0m\u001b[0;34m\u001b[0m\u001b[0m\n",
      "\u001b[0;31mKeyboardInterrupt\u001b[0m: "
     ]
    }
   ],
   "source": [
    "model = Seq2SeqLSTM(128, 3, 0.001)\n",
    "\n",
    "trainer = Trainer(model, dataset, SGD(), batch_size=10, learning_rate=1e-1, learning_rate_decay=0.95, num_epochs = 5000)\n",
    "\n",
    "loss_history, train_history, val_history = trainer.fit()"
   ]
  },
  {
   "cell_type": "code",
   "execution_count": null,
   "metadata": {},
   "outputs": [],
   "source": []
  },
  {
   "cell_type": "code",
   "execution_count": null,
   "metadata": {},
   "outputs": [],
   "source": []
  },
  {
   "cell_type": "code",
   "execution_count": null,
   "metadata": {},
   "outputs": [],
   "source": []
  },
  {
   "cell_type": "code",
   "execution_count": null,
   "metadata": {},
   "outputs": [],
   "source": []
  }
 ],
 "metadata": {
  "kernelspec": {
   "display_name": "Python 3",
   "language": "python",
   "name": "python3"
  },
  "language_info": {
   "codemirror_mode": {
    "name": "ipython",
    "version": 3
   },
   "file_extension": ".py",
   "mimetype": "text/x-python",
   "name": "python",
   "nbconvert_exporter": "python",
   "pygments_lexer": "ipython3",
   "version": "3.7.1"
  }
 },
 "nbformat": 4,
 "nbformat_minor": 2
}
