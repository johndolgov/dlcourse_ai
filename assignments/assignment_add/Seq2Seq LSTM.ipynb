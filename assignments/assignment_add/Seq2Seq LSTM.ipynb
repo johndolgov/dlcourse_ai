{
 "cells": [
  {
   "cell_type": "code",
   "execution_count": 1,
   "metadata": {},
   "outputs": [],
   "source": [
    "from lstm_model import *"
   ]
  },
  {
   "cell_type": "code",
   "execution_count": 2,
   "metadata": {},
   "outputs": [],
   "source": [
    "def create_datasets(dict_size, seq_len, train_data_size, val_data_size):\n",
    "    return Dataset(dict_size, seq_len, train_data_size, val_data_size).data()"
   ]
  },
  {
   "cell_type": "code",
   "execution_count": 3,
   "metadata": {},
   "outputs": [],
   "source": [
    "train_X, train_y, val_X, val_y = create_datasets(15, 4, 5, 4)"
   ]
  },
  {
   "cell_type": "code",
   "execution_count": 4,
   "metadata": {},
   "outputs": [
    {
     "data": {
      "text/plain": [
       "array([[ 2,  0,  2,  7],\n",
       "       [ 2, 11,  7,  5],\n",
       "       [ 1,  9,  7,  8],\n",
       "       [ 0, 14,  6,  2],\n",
       "       [ 7,  5,  0,  9]])"
      ]
     },
     "execution_count": 4,
     "metadata": {},
     "output_type": "execute_result"
    }
   ],
   "source": [
    "train_X"
   ]
  },
  {
   "cell_type": "code",
   "execution_count": 5,
   "metadata": {},
   "outputs": [
    {
     "data": {
      "text/plain": [
       "array([[ 0,  2,  2,  7],\n",
       "       [ 2,  5,  7, 11],\n",
       "       [ 1,  7,  8,  9],\n",
       "       [ 0,  2,  6, 14],\n",
       "       [ 0,  5,  7,  9]])"
      ]
     },
     "execution_count": 5,
     "metadata": {},
     "output_type": "execute_result"
    }
   ],
   "source": [
    "train_y"
   ]
  },
  {
   "cell_type": "code",
   "execution_count": 6,
   "metadata": {},
   "outputs": [
    {
     "data": {
      "text/plain": [
       "array([[ 8,  0, 11,  0],\n",
       "       [ 7,  1, 11,  5],\n",
       "       [ 1,  1,  9, 13],\n",
       "       [ 1, 10, 13,  1]])"
      ]
     },
     "execution_count": 6,
     "metadata": {},
     "output_type": "execute_result"
    }
   ],
   "source": [
    "val_X"
   ]
  },
  {
   "cell_type": "code",
   "execution_count": 7,
   "metadata": {},
   "outputs": [
    {
     "data": {
      "text/plain": [
       "array([[ 0,  0,  8, 11],\n",
       "       [ 1,  5,  7, 11],\n",
       "       [ 1,  1,  9, 13],\n",
       "       [ 1,  1, 10, 13]])"
      ]
     },
     "execution_count": 7,
     "metadata": {},
     "output_type": "execute_result"
    }
   ],
   "source": [
    "val_y"
   ]
  },
  {
   "cell_type": "code",
   "execution_count": 8,
   "metadata": {},
   "outputs": [],
   "source": [
    "dataset = Dataset(15, 4, 5, 4)"
   ]
  },
  {
   "cell_type": "code",
   "execution_count": 37,
   "metadata": {},
   "outputs": [
    {
     "data": {
      "text/plain": [
       "array([[4, 4, 4, 6, 8],\n",
       "       [0, 6, 8, 8, 9],\n",
       "       [0, 2, 4, 5, 7],\n",
       "       ...,\n",
       "       [3, 6, 7, 8, 9],\n",
       "       [3, 3, 5, 6, 9],\n",
       "       [2, 3, 5, 7, 9]])"
      ]
     },
     "execution_count": 37,
     "metadata": {},
     "output_type": "execute_result"
    }
   ],
   "source": [
    "dataset = Dataset(10, 5, 10000, 4)\n",
    "dataset.train_y"
   ]
  },
  {
   "cell_type": "code",
   "execution_count": 38,
   "metadata": {},
   "outputs": [
    {
     "data": {
      "text/plain": [
       "array([[4, 8, 4, 6, 4],\n",
       "       [8, 8, 0, 6, 9],\n",
       "       [7, 4, 0, 5, 2],\n",
       "       ...,\n",
       "       [8, 7, 6, 3, 9],\n",
       "       [3, 6, 9, 5, 3],\n",
       "       [5, 2, 3, 9, 7]])"
      ]
     },
     "execution_count": 38,
     "metadata": {},
     "output_type": "execute_result"
    }
   ],
   "source": [
    "dataset.train_X"
   ]
  },
  {
   "cell_type": "code",
   "execution_count": null,
   "metadata": {
    "scrolled": true
   },
   "outputs": [
    {
     "name": "stdout",
     "output_type": "stream",
     "text": [
      "Epoch: 0, Loss: 11.512786548523659, Train accuracy: 0, Val accuracy: 0 \n",
      "Epoch: 1, Loss: 11.512548682641885, Train accuracy: 0, Val accuracy: 0 \n",
      "Epoch: 2, Loss: 11.512292906576153, Train accuracy: 0, Val accuracy: 0 \n",
      "Epoch: 3, Loss: 11.512224819686283, Train accuracy: 0, Val accuracy: 0 \n",
      "Epoch: 4, Loss: 11.512013000052498, Train accuracy: 0, Val accuracy: 0 \n",
      "Epoch: 5, Loss: 11.512025185971346, Train accuracy: 0, Val accuracy: 0 \n",
      "Epoch: 6, Loss: 11.51184135780119, Train accuracy: 0, Val accuracy: 0 \n",
      "Epoch: 7, Loss: 11.51137354611884, Train accuracy: 0, Val accuracy: 0 \n",
      "Epoch: 8, Loss: 11.510706536705536, Train accuracy: 0, Val accuracy: 0 \n",
      "Epoch: 9, Loss: 11.50968416442209, Train accuracy: 0, Val accuracy: 0 \n",
      "Epoch: 10, Loss: 11.50807013553469, Train accuracy: 0, Val accuracy: 0 \n",
      "Epoch: 11, Loss: 11.505643755283812, Train accuracy: 0, Val accuracy: 0 \n",
      "Epoch: 12, Loss: 11.502068310417211, Train accuracy: 0, Val accuracy: 0 \n",
      "Epoch: 13, Loss: 11.4966446088943, Train accuracy: 0, Val accuracy: 0 \n",
      "Epoch: 14, Loss: 11.488858293547558, Train accuracy: 0, Val accuracy: 0 \n",
      "Epoch: 15, Loss: 11.47717947171925, Train accuracy: 0, Val accuracy: 0 \n",
      "Epoch: 16, Loss: 11.460268603515845, Train accuracy: 0, Val accuracy: 0 \n",
      "Epoch: 17, Loss: 11.434203657611706, Train accuracy: 0, Val accuracy: 0 \n",
      "Epoch: 18, Loss: 11.397015252294482, Train accuracy: 0, Val accuracy: 0 \n",
      "Epoch: 19, Loss: 11.340542724665546, Train accuracy: 0, Val accuracy: 0 \n",
      "Epoch: 20, Loss: 11.253015493079056, Train accuracy: 0, Val accuracy: 0 \n",
      "Epoch: 21, Loss: 11.11613125251253, Train accuracy: 0, Val accuracy: 0 \n",
      "Epoch: 22, Loss: 10.901165241560038, Train accuracy: 0, Val accuracy: 0 \n",
      "Epoch: 23, Loss: 10.516804538292408, Train accuracy: 0, Val accuracy: 0 \n",
      "Epoch: 24, Loss: 9.882883853057821, Train accuracy: 0, Val accuracy: 0 \n",
      "Epoch: 25, Loss: 9.30018337460069, Train accuracy: 0, Val accuracy: 0 \n",
      "Epoch: 26, Loss: 8.94651337402405, Train accuracy: 0, Val accuracy: 0 \n",
      "Epoch: 27, Loss: 8.677176861733859, Train accuracy: 0, Val accuracy: 0 \n",
      "Epoch: 28, Loss: 8.424377001557913, Train accuracy: 0, Val accuracy: 0 \n",
      "Epoch: 29, Loss: 8.179999551454532, Train accuracy: 0, Val accuracy: 0 \n",
      "Epoch: 30, Loss: 8.002315645626556, Train accuracy: 0, Val accuracy: 0 \n",
      "Epoch: 31, Loss: 7.854724006688046, Train accuracy: 0, Val accuracy: 0 \n",
      "Epoch: 32, Loss: 7.758067491586489, Train accuracy: 0, Val accuracy: 0 \n",
      "Epoch: 33, Loss: 7.675572141672958, Train accuracy: 0, Val accuracy: 0 \n",
      "Epoch: 34, Loss: 7.598746716175733, Train accuracy: 0, Val accuracy: 0 \n",
      "Epoch: 35, Loss: 7.483079717028277, Train accuracy: 0, Val accuracy: 0 \n",
      "Epoch: 36, Loss: 7.394591102232345, Train accuracy: 0, Val accuracy: 0 \n",
      "Epoch: 37, Loss: 7.257056507346918, Train accuracy: 0, Val accuracy: 0 \n",
      "Epoch: 38, Loss: 7.138391103198928, Train accuracy: 0, Val accuracy: 0 \n",
      "Epoch: 39, Loss: 6.99749819716456, Train accuracy: 0, Val accuracy: 0 \n",
      "Epoch: 40, Loss: 6.910152361138956, Train accuracy: 0, Val accuracy: 0 \n",
      "Epoch: 41, Loss: 6.81492114740139, Train accuracy: 0, Val accuracy: 0 \n",
      "Epoch: 42, Loss: 6.745607515620021, Train accuracy: 0, Val accuracy: 0 \n",
      "Epoch: 43, Loss: 6.682784392823537, Train accuracy: 0, Val accuracy: 0 \n",
      "Epoch: 44, Loss: 6.600388494373024, Train accuracy: 0, Val accuracy: 0 \n",
      "Epoch: 45, Loss: 6.520237375115781, Train accuracy: 0, Val accuracy: 0 \n",
      "Epoch: 46, Loss: 6.455321413158551, Train accuracy: 0, Val accuracy: 0 \n",
      "Epoch: 47, Loss: 6.394672202674051, Train accuracy: 0, Val accuracy: 0 \n",
      "Epoch: 48, Loss: 6.338667167248236, Train accuracy: 0, Val accuracy: 0 \n",
      "Epoch: 49, Loss: 6.262950418965711, Train accuracy: 0, Val accuracy: 0 \n",
      "Epoch: 50, Loss: 6.216297070746779, Train accuracy: 0, Val accuracy: 0 \n",
      "Epoch: 51, Loss: 6.183217808058874, Train accuracy: 0, Val accuracy: 0 \n",
      "Epoch: 52, Loss: 6.155431444650949, Train accuracy: 0, Val accuracy: 0 \n"
     ]
    }
   ],
   "source": [
    "model = Seq2SeqLSTM(128, 10, 0.001)\n",
    "\n",
    "trainer = Trainer(model, dataset, SGD(), batch_size=100, learning_rate=5e-4, num_epochs = 5000)\n",
    "\n",
    "loss_history, train_history, val_history = trainer.fit()"
   ]
  },
  {
   "cell_type": "code",
   "execution_count": 25,
   "metadata": {},
   "outputs": [
    {
     "data": {
      "text/plain": [
       "array([[6, 0, 0, 0, 9]])"
      ]
     },
     "execution_count": 25,
     "metadata": {},
     "output_type": "execute_result"
    }
   ],
   "source": [
    "model.predict(np.array([5, 6, 9, 4, 1]))"
   ]
  },
  {
   "cell_type": "code",
   "execution_count": 26,
   "metadata": {},
   "outputs": [
    {
     "data": {
      "text/plain": [
       "array([[9, 6]])"
      ]
     },
     "execution_count": 26,
     "metadata": {},
     "output_type": "execute_result"
    }
   ],
   "source": [
    "model.predict(np.array([1,1]))"
   ]
  },
  {
   "cell_type": "code",
   "execution_count": null,
   "metadata": {},
   "outputs": [],
   "source": []
  },
  {
   "cell_type": "code",
   "execution_count": null,
   "metadata": {},
   "outputs": [],
   "source": []
  }
 ],
 "metadata": {
  "kernelspec": {
   "display_name": "Python 3",
   "language": "python",
   "name": "python3"
  },
  "language_info": {
   "codemirror_mode": {
    "name": "ipython",
    "version": 3
   },
   "file_extension": ".py",
   "mimetype": "text/x-python",
   "name": "python",
   "nbconvert_exporter": "python",
   "pygments_lexer": "ipython3",
   "version": "3.7.1"
  }
 },
 "nbformat": 4,
 "nbformat_minor": 2
}
