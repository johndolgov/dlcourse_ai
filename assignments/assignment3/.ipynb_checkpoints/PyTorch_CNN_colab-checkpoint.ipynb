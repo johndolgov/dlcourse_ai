{
 "cells": [
  {
   "cell_type": "markdown",
   "metadata": {
    "colab_type": "text",
    "id": "0N31RKhd0_Ke"
   },
   "source": [
    "# Задание 3.2 - сверточные нейронные сети (CNNs) в PyTorch\n",
    "\n",
    "Это упражнение мы буде выполнять в Google Colab - https://colab.research.google.com/  \n",
    "Google Colab позволяет запускать код в notebook в облаке Google, где можно воспользоваться бесплатным GPU!  \n",
    "\n",
    "Авторы курса благодарят компанию Google и надеятся, что праздник не закончится.\n",
    "\n",
    "Туториал по настройке Google Colab:  \n",
    "https://medium.com/deep-learning-turkey/google-colab-free-gpu-tutorial-e113627b9f5d  \n",
    "(Keras инсталлировать не нужно, наш notebook сам установит PyTorch)\n"
   ]
  },
  {
   "cell_type": "code",
   "execution_count": 3,
   "metadata": {
    "colab": {
     "base_uri": "https://localhost:8080/",
     "height": 521
    },
    "colab_type": "code",
    "executionInfo": {
     "elapsed": 22297,
     "status": "ok",
     "timestamp": 1555094868091,
     "user": {
      "displayName": "John Dolgov",
      "photoUrl": "https://lh5.googleusercontent.com/-vdPwcgGlEA0/AAAAAAAAAAI/AAAAAAAAADo/agh7TOGwJQc/s64/photo.jpg",
      "userId": "14511337248298390024"
     },
     "user_tz": -180
    },
    "id": "FcXBeP1O7cnY",
    "outputId": "31837a13-5163-4b4d-a1d6-37a25c907f28"
   },
   "outputs": [
    {
     "name": "stdout",
     "output_type": "stream",
     "text": [
      "Requirement already satisfied: torch in /usr/local/lib/python3.6/dist-packages (1.0.1.post2)\n",
      "Requirement already satisfied: torchvision in /usr/local/lib/python3.6/dist-packages (0.2.2.post3)\n",
      "Requirement already satisfied: pillow>=4.1.1 in /usr/local/lib/python3.6/dist-packages (from torchvision) (4.1.1)\n",
      "Requirement already satisfied: numpy in /usr/local/lib/python3.6/dist-packages (from torchvision) (1.14.6)\n",
      "Requirement already satisfied: six in /usr/local/lib/python3.6/dist-packages (from torchvision) (1.11.0)\n",
      "Requirement already satisfied: olefile in /usr/local/lib/python3.6/dist-packages (from pillow>=4.1.1->torchvision) (0.46)\n",
      "--2019-04-12 18:47:31--  http://ufldl.stanford.edu/housenumbers/train_32x32.mat\n",
      "Resolving ufldl.stanford.edu (ufldl.stanford.edu)... 171.64.68.10\n",
      "Connecting to ufldl.stanford.edu (ufldl.stanford.edu)|171.64.68.10|:80... connected.\n",
      "HTTP request sent, awaiting response... 200 OK\n",
      "Length: 182040794 (174M) [text/plain]\n",
      "Saving to: ‘train_32x32.mat’\n",
      "\n",
      "train_32x32.mat     100%[===================>] 173.61M  20.6MB/s    in 11s     \n",
      "\n",
      "2019-04-12 18:47:42 (15.3 MB/s) - ‘train_32x32.mat’ saved [182040794/182040794]\n",
      "\n",
      "--2019-04-12 18:47:42--  http://ufldl.stanford.edu/housenumbers/test_32x32.mat\n",
      "Reusing existing connection to ufldl.stanford.edu:80.\n",
      "HTTP request sent, awaiting response... 200 OK\n",
      "Length: 64275384 (61M) [text/plain]\n",
      "Saving to: ‘test_32x32.mat’\n",
      "\n",
      "test_32x32.mat      100%[===================>]  61.30M  20.9MB/s    in 2.9s    \n",
      "\n",
      "2019-04-12 18:47:45 (20.9 MB/s) - ‘test_32x32.mat’ saved [64275384/64275384]\n",
      "\n",
      "FINISHED --2019-04-12 18:47:45--\n",
      "Total wall clock time: 15s\n",
      "Downloaded: 2 files, 235M in 14s (16.5 MB/s)\n"
     ]
    }
   ],
   "source": [
    "# Intstall PyTorch and download data\n",
    "!pip3 install torch torchvision\n",
    "\n",
    "!wget -c http://ufldl.stanford.edu/housenumbers/train_32x32.mat http://ufldl.stanford.edu/housenumbers/test_32x32.mat"
   ]
  },
  {
   "cell_type": "code",
   "execution_count": 0,
   "metadata": {
    "colab": {},
    "colab_type": "code",
    "id": "-afwWw-Q85vD"
   },
   "outputs": [],
   "source": [
    "from collections import namedtuple\n",
    "\n",
    "import matplotlib.pyplot as plt\n",
    "import numpy as np\n",
    "import PIL\n",
    "import torch\n",
    "import torch.nn as nn\n",
    "import torch.optim as optim\n",
    "import torchvision.datasets as dset\n",
    "from torch.utils.data.sampler import SubsetRandomSampler\n",
    "\n",
    "from torchvision import transforms"
   ]
  },
  {
   "cell_type": "code",
   "execution_count": 0,
   "metadata": {
    "colab": {},
    "colab_type": "code",
    "id": "NNU-OD9O9ltP"
   },
   "outputs": [],
   "source": [
    "device = torch.device(\"cuda:0\") # Let's make sure GPU is available!"
   ]
  },
  {
   "cell_type": "markdown",
   "metadata": {
    "colab_type": "text",
    "id": "r7--OWBC0_Ku"
   },
   "source": [
    "# Загружаем данные"
   ]
  },
  {
   "cell_type": "code",
   "execution_count": 0,
   "metadata": {
    "colab": {},
    "colab_type": "code",
    "id": "YAvkoRx-9FsP"
   },
   "outputs": [],
   "source": [
    "# First, lets load the dataset\n",
    "data_train = dset.SVHN('./', \n",
    "                       transform=transforms.Compose([\n",
    "                           transforms.ToTensor(),\n",
    "                           transforms.Normalize(mean=[0.43,0.44,0.47],\n",
    "                                               std=[0.20,0.20,0.20])                           \n",
    "                       ])\n",
    "                      )\n",
    "data_test = dset.SVHN('./', split='test', transform=transforms.Compose([\n",
    "                           transforms.ToTensor(),\n",
    "                           transforms.Normalize(mean=[0.43,0.44,0.47],\n",
    "                                               std=[0.20,0.20,0.20])                           \n",
    "                       ]))"
   ]
  },
  {
   "cell_type": "markdown",
   "metadata": {
    "colab_type": "text",
    "id": "A-peOAlQ0_K0"
   },
   "source": [
    "Разделяем данные на training и validation.\n",
    "\n",
    "На всякий случай для подробностей - https://pytorch.org/tutorials/beginner/data_loading_tutorial.html"
   ]
  },
  {
   "cell_type": "code",
   "execution_count": 0,
   "metadata": {
    "colab": {},
    "colab_type": "code",
    "id": "YRnr8CPg7Hli"
   },
   "outputs": [],
   "source": [
    "batch_size = 64\n",
    "\n",
    "data_size = data_train.data.shape[0]\n",
    "validation_split = .2\n",
    "split = int(np.floor(validation_split * data_size))\n",
    "indices = list(range(data_size))\n",
    "np.random.shuffle(indices)\n",
    "\n",
    "train_indices, val_indices = indices[split:], indices[:split]\n",
    "\n",
    "train_sampler = SubsetRandomSampler(train_indices)\n",
    "val_sampler = SubsetRandomSampler(val_indices)\n",
    "\n",
    "train_loader = torch.utils.data.DataLoader(data_train, batch_size=batch_size, \n",
    "                                           sampler=train_sampler)\n",
    "val_loader = torch.utils.data.DataLoader(data_train, batch_size=batch_size,\n",
    "                                         sampler=val_sampler)"
   ]
  },
  {
   "cell_type": "code",
   "execution_count": 0,
   "metadata": {
    "colab": {},
    "colab_type": "code",
    "id": "LyYvt-T67PBG"
   },
   "outputs": [],
   "source": [
    "# We'll use a special helper module to shape it into a flat tensor\n",
    "class Flattener(nn.Module):\n",
    "    def forward(self, x):\n",
    "        batch_size, *_ = x.shape\n",
    "        return x.view(batch_size, -1)"
   ]
  },
  {
   "cell_type": "markdown",
   "metadata": {
    "colab_type": "text",
    "id": "xk8BgIdJ0_K9"
   },
   "source": [
    "Создадим простейшую сеть с новыми слоями:  \n",
    "Convolutional - `nn.Conv2d`  \n",
    "MaxPool - `nn.MaxPool2d`"
   ]
  },
  {
   "cell_type": "code",
   "execution_count": 0,
   "metadata": {
    "colab": {},
    "colab_type": "code",
    "id": "w9SFVGZP7SQd"
   },
   "outputs": [],
   "source": [
    "nn_model = nn.Sequential(\n",
    "            nn.Conv2d(3, 64, 3, padding=1),\n",
    "            nn.ReLU(inplace=True),\n",
    "            nn.MaxPool2d(4),\n",
    "            nn.Conv2d(64, 64, 3, padding=1),\n",
    "            nn.ReLU(inplace=True),\n",
    "            nn.MaxPool2d(4),    \n",
    "            Flattener(),\n",
    "            nn.Linear(64*2*2, 10),\n",
    "          )\n",
    "\n",
    "nn_model.type(torch.cuda.FloatTensor)\n",
    "nn_model.to(device)\n",
    "\n",
    "loss = nn.CrossEntropyLoss().type(torch.cuda.FloatTensor)\n",
    "optimizer = optim.SGD(nn_model.parameters(), lr=1e-1, weight_decay=1e-4)"
   ]
  },
  {
   "cell_type": "markdown",
   "metadata": {
    "colab_type": "text",
    "id": "Jt8o9_3M0_LE"
   },
   "source": [
    "Восстановите функцию `compute_accuracy` из прошлого задания.  \n",
    "Единственное отличие в новом - она должна передать данные на GPU прежде чем прогонять через модель. Сделайте это так же, как это делает функция `train_model`"
   ]
  },
  {
   "cell_type": "code",
   "execution_count": 10,
   "metadata": {
    "colab": {
     "base_uri": "https://localhost:8080/",
     "height": 101
    },
    "colab_type": "code",
    "executionInfo": {
     "elapsed": 104850,
     "status": "ok",
     "timestamp": 1555094998572,
     "user": {
      "displayName": "John Dolgov",
      "photoUrl": "https://lh5.googleusercontent.com/-vdPwcgGlEA0/AAAAAAAAAAI/AAAAAAAAADo/agh7TOGwJQc/s64/photo.jpg",
      "userId": "14511337248298390024"
     },
     "user_tz": -180
    },
    "id": "2ek3KVQK7hJ6",
    "outputId": "440f94a4-0e2f-41e0-b228-2817eb1c8910"
   },
   "outputs": [
    {
     "name": "stdout",
     "output_type": "stream",
     "text": [
      "Average loss: 1.378337, Train accuracy: 0.538784, Val accuracy: 0.751621\n",
      "Average loss: 0.699212, Train accuracy: 0.786677, Val accuracy: 0.806839\n",
      "Average loss: 0.603078, Train accuracy: 0.819507, Val accuracy: 0.815303\n",
      "Average loss: 0.554243, Train accuracy: 0.834147, Val accuracy: 0.838509\n",
      "Average loss: 0.522870, Train accuracy: 0.846910, Val accuracy: 0.814415\n"
     ]
    }
   ],
   "source": [
    "def train_model(model, train_loader, val_loader, loss, optimizer, num_epochs):    \n",
    "    loss_history = []\n",
    "    train_history = []\n",
    "    val_history = []\n",
    "    for epoch in range(num_epochs):\n",
    "        model.train() # Enter train mode\n",
    "        \n",
    "        loss_accum = 0\n",
    "        correct_samples = 0\n",
    "        total_samples = 0\n",
    "        for i_step, (x, y) in enumerate(train_loader):\n",
    "          \n",
    "            x_gpu = x.to(device)\n",
    "            y_gpu = y.to(device)\n",
    "            prediction = model(x_gpu)    \n",
    "            loss_value = loss(prediction, y_gpu)\n",
    "            optimizer.zero_grad()\n",
    "            loss_value.backward()\n",
    "            optimizer.step()\n",
    "            \n",
    "            _, indices = torch.max(prediction, 1)\n",
    "            correct_samples += torch.sum(indices == y_gpu)\n",
    "            total_samples += y.shape[0]\n",
    "            \n",
    "            loss_accum += loss_value\n",
    "\n",
    "        ave_loss = loss_accum / i_step\n",
    "        train_accuracy = float(correct_samples) / total_samples\n",
    "        val_accuracy = compute_accuracy(model, val_loader)\n",
    "        \n",
    "        loss_history.append(float(ave_loss))\n",
    "        train_history.append(train_accuracy)\n",
    "        val_history.append(val_accuracy)\n",
    "        \n",
    "        print(\"Average loss: %f, Train accuracy: %f, Val accuracy: %f\" % (ave_loss, train_accuracy, val_accuracy))\n",
    "        \n",
    "    return loss_history, train_history, val_history\n",
    "        \n",
    "def compute_accuracy(model, loader):\n",
    "    \"\"\"\n",
    "    Computes accuracy on the dataset wrapped in a loader\n",
    "    \n",
    "    Returns: accuracy as a float value between 0 and 1\n",
    "    \"\"\"\n",
    "    model.eval() # Evaluation mode\n",
    "    # TODO: Copy implementation from previous assignment\n",
    "    # Don't forget to move the data to device before running it through the model!\n",
    "    \n",
    "    #raise Exception(\"Not implemented\")\n",
    "    val_accuracy = 0\n",
    "    correct = 0\n",
    "    total = 0\n",
    "    for i_step, (x, y) in enumerate(loader):\n",
    "        x_gpu = x.to(device)\n",
    "        y_gpu = y.to(device)\n",
    "        pred = model(x_gpu)\n",
    "        \n",
    "        _, indices = torch.max(pred, 1)\n",
    "        correct += torch.sum(indices == y_gpu)\n",
    "        total += y.shape[0]\n",
    "        \n",
    "        val_accuracy = float(correct)/total\n",
    "        \n",
    "    return val_accuracy\n",
    "\n",
    "loss_history, train_history, val_history = train_model(nn_model, train_loader, val_loader, loss, optimizer, 5)"
   ]
  },
  {
   "cell_type": "markdown",
   "metadata": {
    "colab_type": "text",
    "id": "6a-3a1ZFGEw_"
   },
   "source": [
    "# Аугментация данных (Data augmentation)\n",
    "\n",
    "В работе с изображениями одним из особенно важных методов является аугментация данных - то есть, генерация дополнительных данных для тренировки на основе изначальных.   \n",
    "Таким образом, мы получаем возможность \"увеличить\" набор данных для тренировки, что ведет к лучшей работе сети.\n",
    "Важно, чтобы аугментированные данные были похожи на те, которые могут встретиться в реальной жизни, иначе польза от аугментаций уменьшается и может ухудшить работу сети.\n",
    "\n",
    "С PyTorch идут несколько таких алгоритмов, называемых `transforms`. Более подробно про них можно прочитать тут -\n",
    "https://pytorch.org/tutorials/beginner/data_loading_tutorial.html#transforms\n",
    "\n",
    "Ниже мы используем следующие алгоритмы генерации:\n",
    "- ColorJitter - случайное изменение цвета\n",
    "- RandomHorizontalFlip - горизонтальное отражение с вероятностью 50%\n",
    "- RandomVerticalFlip - вертикальное отражение с вероятностью 50%\n",
    "- RandomRotation - случайный поворот"
   ]
  },
  {
   "cell_type": "code",
   "execution_count": 0,
   "metadata": {
    "colab": {},
    "colab_type": "code",
    "id": "jCWMUWmr7t5g"
   },
   "outputs": [],
   "source": [
    "tfs = transforms.Compose([\n",
    "    transforms.ColorJitter(hue=.50, saturation=.50),\n",
    "    transforms.RandomHorizontalFlip(),\n",
    "    transforms.RandomVerticalFlip(),\n",
    "    transforms.RandomRotation(50, resample=PIL.Image.BILINEAR),\n",
    "    transforms.ToTensor(),\n",
    "    transforms.Normalize(mean=[0.43,0.44,0.47],\n",
    "                       std=[0.20,0.20,0.20])                           \n",
    "])\n",
    "\n",
    "# Create augmented train dataset\n",
    "data_aug_train = dset.SVHN('./', \n",
    "                       transform=tfs\n",
    "                      )\n",
    "\n",
    "train_aug_loader = torch.utils.data.DataLoader(data_aug_train, batch_size=batch_size, \n",
    "                                           sampler=train_sampler)"
   ]
  },
  {
   "cell_type": "markdown",
   "metadata": {
    "colab_type": "text",
    "id": "x4pYPB_e0_LP"
   },
   "source": [
    "Визуализируем результаты агментации (вообще, смотреть на сгенерированные данные всегда очень полезно)."
   ]
  },
  {
   "cell_type": "code",
   "execution_count": 13,
   "metadata": {
    "colab": {
     "base_uri": "https://localhost:8080/",
     "height": 212
    },
    "colab_type": "code",
    "executionInfo": {
     "elapsed": 4889,
     "status": "ok",
     "timestamp": 1555095035705,
     "user": {
      "displayName": "John Dolgov",
      "photoUrl": "https://lh5.googleusercontent.com/-vdPwcgGlEA0/AAAAAAAAAAI/AAAAAAAAADo/agh7TOGwJQc/s64/photo.jpg",
      "userId": "14511337248298390024"
     },
     "user_tz": -180
    },
    "id": "YlJJEro1KZ45",
    "outputId": "8f6749c9-6c1f-4fe2-8c53-bf3b72a8a0ac"
   },
   "outputs": [
    {
     "data": {
      "image/png": "[encoded data removed]",
      "text/plain": [
       "<Figure size 2160x216 with 10 Axes>"
      ]
     },
     "metadata": {
      "tags": []
     },
     "output_type": "display_data"
    }
   ],
   "source": [
    "# TODO: Visualize some augmented images!\n",
    "# hint: you can create new datasets and loaders to accomplish this\n",
    "\n",
    "# Based on the visualizations, should we keep all the augmentations?\n",
    "\n",
    "tfs = transforms.Compose([\n",
    "    transforms.ColorJitter(hue=.20, saturation=.20),\n",
    "    transforms.RandomHorizontalFlip(),\n",
    "    transforms.RandomVerticalFlip(),\n",
    "    transforms.RandomRotation(10, resample=PIL.Image.BILINEAR),\n",
    "])\n",
    "\n",
    "data_aug_vis = dset.SVHN('./', \n",
    "                       transform=tfs\n",
    "                      )\n",
    "\n",
    "plt.figure(figsize=(30, 3))\n",
    "\n",
    "for i, (x, y) in enumerate(data_aug_vis):\n",
    "    if i == 10:\n",
    "        break\n",
    "    plt.subplot(1, 10, i+1)\n",
    "    plt.grid(False)\n",
    "    plt.imshow(x)\n",
    "    plt.axis('off')"
   ]
  },
  {
   "cell_type": "markdown",
   "metadata": {
    "colab_type": "text",
    "id": "o2LrmsYHoguB"
   },
   "source": [
    "Все ли агментации одинаково полезны на этом наборе данных? Могут ли быть среди них те, которые собьют модель с толку?\n",
    "\n",
    "Выберите из них только корректные"
   ]
  },
  {
   "cell_type": "code",
   "execution_count": 0,
   "metadata": {
    "colab": {},
    "colab_type": "code",
    "id": "evro9ksXGs9u"
   },
   "outputs": [],
   "source": [
    "# TODO: \n",
    "tfs = transforms.Compose([\n",
    "    # TODO: Add good augmentations\n",
    "    transforms.RandomRotation(10, resample=PIL.Image.BILINEAR),\n",
    "    transforms.RandomGrayscale(p=0.75),\n",
    "    transforms.ColorJitter(hue=.20, saturation=.20),\n",
    "    transforms.ToTensor(),\n",
    "    transforms.Normalize(mean=[0.43,0.44,0.47],\n",
    "                       std=[0.20,0.20,0.20])                           \n",
    "])\n",
    "\n",
    "# TODO create new instances of loaders with the augmentations you chose\n",
    "data_aug_train = dset.SVHN('./', transform=tfs)\n",
    "\n",
    "train_aug_loader = torch.utils.data.DataLoader(data_aug_train, batch_size=batch_size, sampler=train_sampler)"
   ]
  },
  {
   "cell_type": "code",
   "execution_count": 15,
   "metadata": {
    "colab": {
     "base_uri": "https://localhost:8080/",
     "height": 101
    },
    "colab_type": "code",
    "executionInfo": {
     "elapsed": 245786,
     "status": "ok",
     "timestamp": 1555095283739,
     "user": {
      "displayName": "John Dolgov",
      "photoUrl": "https://lh5.googleusercontent.com/-vdPwcgGlEA0/AAAAAAAAAAI/AAAAAAAAADo/agh7TOGwJQc/s64/photo.jpg",
      "userId": "14511337248298390024"
     },
     "user_tz": -180
    },
    "id": "PeO6Zw0DHqPR",
    "outputId": "c0b37118-37c1-49f1-ddab-5af54c4f7c8a"
   },
   "outputs": [
    {
     "name": "stdout",
     "output_type": "stream",
     "text": [
      "Average loss: 0.626386, Train accuracy: 0.809559, Val accuracy: 0.820012\n",
      "Average loss: 0.571365, Train accuracy: 0.827236, Val accuracy: 0.841854\n",
      "Average loss: 0.552502, Train accuracy: 0.833362, Val accuracy: 0.828544\n",
      "Average loss: 0.532598, Train accuracy: 0.839846, Val accuracy: 0.820695\n",
      "Average loss: 0.518847, Train accuracy: 0.844214, Val accuracy: 0.850386\n"
     ]
    }
   ],
   "source": [
    "# Finally, let's train with augmentations!\n",
    "\n",
    "# Note we shouldn't use augmentations on validation\n",
    "\n",
    "loss_history, train_history, val_history = train_model(nn_model, train_aug_loader, val_loader, loss, optimizer, 5)"
   ]
  },
  {
   "cell_type": "markdown",
   "metadata": {
    "colab_type": "text",
    "id": "r0bcioK6JBDK"
   },
   "source": [
    "# LeNet\n",
    "Попробуем имплементировать классическую архитектуру сверточной нейронной сети, предложенную Яном ЛеКуном в 1998 году. В свое время она достигла впечатляющих результатов на MNIST, посмотрим как она справится с SVHN?\n",
    "Она описана в статье [\"Gradient Based Learning Applied to Document Recognition\"](http://yann.lecun.com/exdb/publis/pdf/lecun-01a.pdf), попробуйте прочитать ключевые части и имплементировать предложенную архитетуру на PyTorch.\n",
    "\n",
    "Если в статье не очень понятно, можно просто погуглить LeNet и разобраться в деталях :)"
   ]
  },
  {
   "cell_type": "code",
   "execution_count": 0,
   "metadata": {
    "colab": {},
    "colab_type": "code",
    "id": "ieEzZUglJAUB"
   },
   "outputs": [],
   "source": [
    "# TODO: Implement LeNet-like architecture for SVHN task\n",
    "lenet_model = nn.Sequential(\n",
    "    nn.Conv2d(3, 6, 5, stride = 1, padding = 2, bias = True),\n",
    "    nn.Tanh(),\n",
    "    nn.MaxPool2d(kernel_size = 2),\n",
    "    nn.Conv2d(6, 16, 5, stride =1, padding = 0, bias = True),\n",
    "    nn.Tanh(),\n",
    "    nn.MaxPool2d(kernel_size = 2),\n",
    "    nn.Conv2d(16, 120, 5, stride = 1, padding = 0, bias = True),\n",
    "    nn.Tanh(),\n",
    "    Flattener(),\n",
    "    nn.Linear(4*120, 84),\n",
    "    nn.Tanh(),\n",
    "    nn.Linear(84, 10))\n",
    "\n",
    "lenet_model.type(torch.cuda.FloatTensor)\n",
    "lenet_model.to(device)\n",
    "\n",
    "loss = nn.CrossEntropyLoss().type(torch.cuda.FloatTensor)\n",
    "optimizer = optim.SGD(lenet_model.parameters(), lr=1e-1, weight_decay=1e-4)"
   ]
  },
  {
   "cell_type": "code",
   "execution_count": 0,
   "metadata": {
    "colab": {
     "base_uri": "https://localhost:8080/",
     "height": 185
    },
    "colab_type": "code",
    "executionInfo": {
     "elapsed": 848682,
     "status": "ok",
     "timestamp": 1555060581747,
     "user": {
      "displayName": "John Dolgov",
      "photoUrl": "https://lh5.googleusercontent.com/-vdPwcgGlEA0/AAAAAAAAAAI/AAAAAAAAADo/agh7TOGwJQc/s64/photo.jpg",
      "userId": "14511337248298390024"
     },
     "user_tz": -180
    },
    "id": "WMmaPfdeKk9H",
    "outputId": "3d332508-9cbe-40ac-ce91-60562ef14f37"
   },
   "outputs": [
    {
     "name": "stdout",
     "output_type": "stream",
     "text": [
      "Average loss: 1.166266, Train accuracy: 0.609460, Val accuracy: 0.805884\n",
      "Average loss: 0.558171, Train accuracy: 0.829966, Val accuracy: 0.856324\n",
      "Average loss: 0.473201, Train accuracy: 0.856721, Val accuracy: 0.871886\n",
      "Average loss: 0.422586, Train accuracy: 0.872266, Val accuracy: 0.879735\n",
      "Average loss: 0.386841, Train accuracy: 0.882623, Val accuracy: 0.881373\n",
      "Average loss: 0.364432, Train accuracy: 0.889397, Val accuracy: 0.890519\n",
      "Average loss: 0.344360, Train accuracy: 0.895301, Val accuracy: 0.896185\n",
      "Average loss: 0.321519, Train accuracy: 0.901904, Val accuracy: 0.890042\n",
      "Average loss: 0.309322, Train accuracy: 0.906051, Val accuracy: 0.899188\n",
      "Average loss: 0.296007, Train accuracy: 0.910112, Val accuracy: 0.901713\n"
     ]
    }
   ],
   "source": [
    "# Let's train it!\n",
    "loss_history, train_history, val_history = train_model(lenet_model, train_aug_loader, val_loader, loss, optimizer, 10)"
   ]
  },
  {
   "cell_type": "markdown",
   "metadata": {
    "colab_type": "text",
    "id": "u_O9qiYySvuj"
   },
   "source": [
    "# Подбор гиперпараметров"
   ]
  },
  {
   "cell_type": "code",
   "execution_count": 0,
   "metadata": {
    "colab": {},
    "colab_type": "code",
    "id": "7fqpWLtONnrA"
   },
   "outputs": [],
   "source": [
    "def train_model_param(model, train_loader, val_loader, loss, optimizer, num_epochs, step_size, gamma):\n",
    "    sheduler = optim.lr_scheduler.StepLR(optimizer, step_size = step_size, gamma = gamma)\n",
    "    loss_history = []\n",
    "    train_history = []\n",
    "    val_history = []\n",
    "    for epoch in range(num_epochs):\n",
    "        model.train() # Enter train mode\n",
    "        \n",
    "        loss_accum = 0\n",
    "        correct_samples = 0\n",
    "        total_samples = 0\n",
    "        sheduler.step()\n",
    "        for i_step, (x, y) in enumerate(train_loader):\n",
    "          \n",
    "            x_gpu = x.to(device)\n",
    "            y_gpu = y.to(device)\n",
    "            prediction = model(x_gpu)    \n",
    "            loss_value = loss(prediction, y_gpu)\n",
    "            optimizer.zero_grad()\n",
    "            loss_value.backward()\n",
    "            optimizer.step()\n",
    "            \n",
    "            _, indices = torch.max(prediction, 1)\n",
    "            correct_samples += torch.sum(indices == y_gpu)\n",
    "            total_samples += y.shape[0]\n",
    "            \n",
    "            loss_accum += loss_value\n",
    "\n",
    "        ave_loss = loss_accum / i_step\n",
    "        train_accuracy = float(correct_samples) / total_samples\n",
    "        val_accuracy = compute_accuracy(model, val_loader)\n",
    "        \n",
    "        loss_history.append(float(ave_loss))\n",
    "        train_history.append(train_accuracy)\n",
    "        val_history.append(val_accuracy)\n",
    "        \n",
    "        print(\"Average loss: %f, Train accuracy: %f, Val accuracy: %f\" % (ave_loss, train_accuracy, val_accuracy))\n",
    "        \n",
    "    return loss_history, train_history, val_history"
   ]
  },
  {
   "cell_type": "code",
   "execution_count": 0,
   "metadata": {
    "colab": {
     "base_uri": "https://localhost:8080/",
     "height": 5006
    },
    "colab_type": "code",
    "executionInfo": {
     "elapsed": 7507675,
     "status": "ok",
     "timestamp": 1555080114920,
     "user": {
      "displayName": "John Dolgov",
      "photoUrl": "https://lh5.googleusercontent.com/-vdPwcgGlEA0/AAAAAAAAAAI/AAAAAAAAADo/agh7TOGwJQc/s64/photo.jpg",
      "userId": "14511337248298390024"
     },
     "user_tz": -180
    },
    "id": "i6mhfdQ9K-N3",
    "outputId": "f1cd298b-98e5-413c-d214-1e90f755cdd7"
   },
   "outputs": [
    {
     "name": "stdout",
     "output_type": "stream",
     "text": [
      "Parameters are now lr = 0.1, anneal_epoch = 2, reg = 0.001\n",
      "Average loss: 2.713166, Train accuracy: 0.130072, Val accuracy: 0.138421\n",
      "Average loss: 2.741678, Train accuracy: 0.124953, Val accuracy: 0.091939\n",
      "Average loss: 2.340235, Train accuracy: 0.155291, Val accuracy: 0.165108\n",
      "Average loss: 2.326761, Train accuracy: 0.154575, Val accuracy: 0.160126\n",
      "Average loss: 1.256183, Train accuracy: 0.576630, Val accuracy: 0.804314\n",
      "Average loss: 0.625630, Train accuracy: 0.807409, Val accuracy: 0.847041\n",
      "Average loss: 0.427690, Train accuracy: 0.870593, Val accuracy: 0.882192\n",
      "Average loss: 0.380694, Train accuracy: 0.883101, Val accuracy: 0.892567\n",
      "Average loss: 0.317614, Train accuracy: 0.905197, Val accuracy: 0.902464\n",
      "Average loss: 0.307327, Train accuracy: 0.909549, Val accuracy: 0.902942\n",
      "Parameters are now lr = 0.1, anneal_epoch = 2, reg = 0.0001\n",
      "Average loss: 2.753510, Train accuracy: 0.129099, Val accuracy: 0.129616\n",
      "Average loss: 2.774651, Train accuracy: 0.126028, Val accuracy: 0.165449\n",
      "Average loss: 2.334354, Train accuracy: 0.155394, Val accuracy: 0.170705\n",
      "Average loss: 2.311318, Train accuracy: 0.166126, Val accuracy: 0.184015\n",
      "Average loss: 1.963552, Train accuracy: 0.308023, Val accuracy: 0.410689\n",
      "Average loss: 1.532751, Train accuracy: 0.486401, Val accuracy: 0.543308\n",
      "Average loss: 1.264366, Train accuracy: 0.585042, Val accuracy: 0.607604\n",
      "Average loss: 1.162007, Train accuracy: 0.619885, Val accuracy: 0.628558\n",
      "Average loss: 1.102601, Train accuracy: 0.642733, Val accuracy: 0.643437\n",
      "Average loss: 1.078783, Train accuracy: 0.649490, Val accuracy: 0.648761\n",
      "Parameters are now lr = 0.1, anneal_epoch = 2, reg = 1e-05\n",
      "Average loss: 2.755452, Train accuracy: 0.130243, Val accuracy: 0.116443\n",
      "Average loss: 2.713280, Train accuracy: 0.136573, Val accuracy: 0.131595\n",
      "Average loss: 2.317679, Train accuracy: 0.166246, Val accuracy: 0.178145\n",
      "Average loss: 2.308192, Train accuracy: 0.173771, Val accuracy: 0.183469\n",
      "Average loss: 2.181792, Train accuracy: 0.214739, Val accuracy: 0.234318\n",
      "Average loss: 2.130260, Train accuracy: 0.236768, Val accuracy: 0.231588\n",
      "Average loss: 2.077218, Train accuracy: 0.261919, Val accuracy: 0.263395\n",
      "Average loss: 2.058502, Train accuracy: 0.269358, Val accuracy: 0.268446\n",
      "Average loss: 2.042820, Train accuracy: 0.278845, Val accuracy: 0.275749\n",
      "Average loss: 2.038997, Train accuracy: 0.279750, Val accuracy: 0.274247\n",
      "Parameters are now lr = 0.1, anneal_epoch = 5, reg = 0.001\n",
      "Average loss: 2.749281, Train accuracy: 0.126438, Val accuracy: 0.153710\n",
      "Average loss: 2.750655, Train accuracy: 0.127103, Val accuracy: 0.125998\n",
      "Average loss: 2.710186, Train accuracy: 0.130055, Val accuracy: 0.144290\n",
      "Average loss: 2.713408, Train accuracy: 0.128144, Val accuracy: 0.110504\n",
      "Average loss: 2.697780, Train accuracy: 0.130379, Val accuracy: 0.112962\n",
      "Average loss: 2.342892, Train accuracy: 0.155752, Val accuracy: 0.139035\n",
      "Average loss: 2.326621, Train accuracy: 0.155633, Val accuracy: 0.159580\n",
      "Average loss: 2.332087, Train accuracy: 0.156486, Val accuracy: 0.140605\n",
      "Average loss: 2.330834, Train accuracy: 0.156144, Val accuracy: 0.148318\n",
      "Average loss: 2.338293, Train accuracy: 0.153790, Val accuracy: 0.171046\n",
      "Parameters are now lr = 0.1, anneal_epoch = 5, reg = 0.0001\n",
      "Average loss: 2.763493, Train accuracy: 0.126267, Val accuracy: 0.142106\n",
      "Average loss: 2.749508, Train accuracy: 0.130737, Val accuracy: 0.125247\n",
      "Average loss: 2.724148, Train accuracy: 0.129134, Val accuracy: 0.163743\n",
      "Average loss: 2.739606, Train accuracy: 0.129782, Val accuracy: 0.152481\n",
      "Average loss: 2.741657, Train accuracy: 0.127461, Val accuracy: 0.124633\n",
      "Average loss: 2.289352, Train accuracy: 0.179163, Val accuracy: 0.186950\n",
      "Average loss: 2.188885, Train accuracy: 0.228100, Val accuracy: 0.228312\n",
      "Average loss: 2.180243, Train accuracy: 0.238576, Val accuracy: 0.292676\n",
      "Average loss: 2.136847, Train accuracy: 0.264563, Val accuracy: 0.311515\n",
      "Average loss: 1.995120, Train accuracy: 0.318926, Val accuracy: 0.341274\n",
      "Parameters are now lr = 0.1, anneal_epoch = 5, reg = 1e-05\n",
      "Average loss: 2.748228, Train accuracy: 0.131352, Val accuracy: 0.143471\n",
      "Average loss: 2.753702, Train accuracy: 0.133570, Val accuracy: 0.139581\n",
      "Average loss: 2.786783, Train accuracy: 0.133160, Val accuracy: 0.100130\n",
      "Average loss: 2.744099, Train accuracy: 0.136658, Val accuracy: 0.146679\n",
      "Average loss: 2.765055, Train accuracy: 0.136778, Val accuracy: 0.135622\n",
      "Average loss: 2.322953, Train accuracy: 0.162236, Val accuracy: 0.135076\n",
      "Average loss: 2.313192, Train accuracy: 0.166621, Val accuracy: 0.150229\n",
      "Average loss: 2.312390, Train accuracy: 0.173429, Val accuracy: 0.165791\n",
      "Average loss: 2.291982, Train accuracy: 0.183991, Val accuracy: 0.176643\n",
      "Average loss: 2.268758, Train accuracy: 0.196192, Val accuracy: 0.194253\n",
      "Parameters are now lr = 0.1, anneal_epoch = 10, reg = 0.001\n",
      "Average loss: 2.725255, Train accuracy: 0.126045, Val accuracy: 0.159443\n",
      "Average loss: 2.708121, Train accuracy: 0.130004, Val accuracy: 0.161764\n",
      "Average loss: 2.704567, Train accuracy: 0.127922, Val accuracy: 0.124360\n",
      "Average loss: 2.733476, Train accuracy: 0.126676, Val accuracy: 0.137397\n",
      "Average loss: 2.692740, Train accuracy: 0.128502, Val accuracy: 0.132073\n",
      "Average loss: 2.718231, Train accuracy: 0.126608, Val accuracy: 0.125179\n",
      "Average loss: 2.733489, Train accuracy: 0.126096, Val accuracy: 0.099720\n",
      "Average loss: 2.697580, Train accuracy: 0.126011, Val accuracy: 0.122039\n",
      "Average loss: 2.696740, Train accuracy: 0.128690, Val accuracy: 0.136782\n",
      "Average loss: 2.708568, Train accuracy: 0.127956, Val accuracy: 0.176165\n",
      "Parameters are now lr = 0.1, anneal_epoch = 10, reg = 0.0001\n",
      "Average loss: 2.759254, Train accuracy: 0.130021, Val accuracy: 0.114190\n",
      "Average loss: 2.756223, Train accuracy: 0.131420, Val accuracy: 0.123609\n",
      "Average loss: 2.741686, Train accuracy: 0.131420, Val accuracy: 0.136168\n",
      "Average loss: 2.743142, Train accuracy: 0.131130, Val accuracy: 0.126476\n",
      "Average loss: 2.783935, Train accuracy: 0.128110, Val accuracy: 0.114395\n",
      "Average loss: 2.712013, Train accuracy: 0.131079, Val accuracy: 0.142652\n",
      "Average loss: 2.752096, Train accuracy: 0.129936, Val accuracy: 0.153641\n",
      "Average loss: 2.709113, Train accuracy: 0.130430, Val accuracy: 0.149546\n",
      "Average loss: 2.757103, Train accuracy: 0.130004, Val accuracy: 0.145314\n",
      "Average loss: 2.791172, Train accuracy: 0.126574, Val accuracy: 0.121357\n",
      "Parameters are now lr = 0.1, anneal_epoch = 10, reg = 1e-05\n",
      "Average loss: 2.754045, Train accuracy: 0.131881, Val accuracy: 0.167634\n",
      "Average loss: 2.759152, Train accuracy: 0.132000, Val accuracy: 0.128524\n",
      "Average loss: 2.747461, Train accuracy: 0.129543, Val accuracy: 0.101290\n",
      "Average loss: 2.755027, Train accuracy: 0.128468, Val accuracy: 0.129001\n",
      "Average loss: 2.783442, Train accuracy: 0.127666, Val accuracy: 0.126954\n",
      "Average loss: 2.747487, Train accuracy: 0.131761, Val accuracy: 0.126954\n",
      "Average loss: 2.760249, Train accuracy: 0.133689, Val accuracy: 0.117057\n",
      "Average loss: 2.776125, Train accuracy: 0.132239, Val accuracy: 0.124292\n",
      "Average loss: 2.752019, Train accuracy: 0.132785, Val accuracy: 0.103611\n",
      "Average loss: 2.777890, Train accuracy: 0.133092, Val accuracy: 0.138011\n",
      "Parameters are now lr = 0.01, anneal_epoch = 2, reg = 0.001\n",
      "Average loss: 2.096858, Train accuracy: 0.249838, Val accuracy: 0.467750\n",
      "Average loss: 1.246608, Train accuracy: 0.590042, Val accuracy: 0.646577\n",
      "Average loss: 0.683289, Train accuracy: 0.789970, Val accuracy: 0.827179\n",
      "Average loss: 0.556228, Train accuracy: 0.828226, Val accuracy: 0.847655\n",
      "Average loss: 0.419187, Train accuracy: 0.873409, Val accuracy: 0.876186\n",
      "Average loss: 0.385130, Train accuracy: 0.883544, Val accuracy: 0.880827\n",
      "Average loss: 0.347479, Train accuracy: 0.895523, Val accuracy: 0.885605\n",
      "Average loss: 0.337274, Train accuracy: 0.899140, Val accuracy: 0.885469\n",
      "Average loss: 0.328533, Train accuracy: 0.902194, Val accuracy: 0.886697\n",
      "Average loss: 0.328529, Train accuracy: 0.901972, Val accuracy: 0.888267\n",
      "Parameters are now lr = 0.01, anneal_epoch = 2, reg = 0.0001\n",
      "Average loss: 2.255166, Train accuracy: 0.183497, Val accuracy: 0.284008\n",
      "Average loss: 1.871998, Train accuracy: 0.356465, Val accuracy: 0.434646\n",
      "Average loss: 1.459781, Train accuracy: 0.513122, Val accuracy: 0.575729\n",
      "Average loss: 1.278285, Train accuracy: 0.581169, Val accuracy: 0.617432\n",
      "Average loss: 1.164357, Train accuracy: 0.623980, Val accuracy: 0.644939\n",
      "Average loss: 1.125261, Train accuracy: 0.636795, Val accuracy: 0.656952\n",
      "Average loss: 1.098403, Train accuracy: 0.646674, Val accuracy: 0.660979\n",
      "Average loss: 1.087383, Train accuracy: 0.649234, Val accuracy: 0.663231\n",
      "Average loss: 1.078025, Train accuracy: 0.652885, Val accuracy: 0.662412\n",
      "Average loss: 1.077875, Train accuracy: 0.653807, Val accuracy: 0.663095\n",
      "Parameters are now lr = 0.01, anneal_epoch = 2, reg = 1e-05\n",
      "Average loss: 2.252422, Train accuracy: 0.182149, Val accuracy: 0.272951\n",
      "Average loss: 1.995012, Train accuracy: 0.307392, Val accuracy: 0.404751\n",
      "Average loss: 1.610538, Train accuracy: 0.456233, Val accuracy: 0.504744\n",
      "Average loss: 1.476529, Train accuracy: 0.508105, Val accuracy: 0.546447\n",
      "Average loss: 1.384456, Train accuracy: 0.538068, Val accuracy: 0.561054\n",
      "Average loss: 1.358794, Train accuracy: 0.548459, Val accuracy: 0.572862\n",
      "Average loss: 1.337033, Train accuracy: 0.558015, Val accuracy: 0.572384\n",
      "Average loss: 1.335778, Train accuracy: 0.558475, Val accuracy: 0.575183\n",
      "Average loss: 1.326157, Train accuracy: 0.561649, Val accuracy: 0.574637\n",
      "Average loss: 1.329883, Train accuracy: 0.561069, Val accuracy: 0.575660\n",
      "Parameters are now lr = 0.01, anneal_epoch = 5, reg = 0.001\n",
      "Average loss: 2.254025, Train accuracy: 0.183462, Val accuracy: 0.295816\n",
      "Average loss: 1.639378, Train accuracy: 0.441013, Val accuracy: 0.631288\n",
      "Average loss: 1.092605, Train accuracy: 0.650019, Val accuracy: 0.696676\n",
      "Average loss: 0.896940, Train accuracy: 0.718766, Val accuracy: 0.739745\n",
      "Average loss: 0.863835, Train accuracy: 0.729277, Val accuracy: 0.744454\n",
      "Average loss: 0.560382, Train accuracy: 0.828669, Val accuracy: 0.860692\n",
      "Average loss: 0.484982, Train accuracy: 0.851773, Val accuracy: 0.864719\n",
      "Average loss: 0.457129, Train accuracy: 0.860304, Val accuracy: 0.872978\n",
      "Average loss: 0.436431, Train accuracy: 0.867027, Val accuracy: 0.874343\n",
      "Average loss: 0.423621, Train accuracy: 0.869655, Val accuracy: 0.874070\n",
      "Parameters are now lr = 0.01, anneal_epoch = 5, reg = 0.0001\n",
      "Average loss: 2.180018, Train accuracy: 0.216462, Val accuracy: 0.370487\n",
      "Average loss: 1.708969, Train accuracy: 0.419343, Val accuracy: 0.508429\n",
      "Average loss: 1.433717, Train accuracy: 0.528871, Val accuracy: 0.569313\n",
      "Average loss: 1.301607, Train accuracy: 0.580299, Val accuracy: 0.628080\n",
      "Average loss: 1.235635, Train accuracy: 0.604290, Val accuracy: 0.615521\n",
      "Average loss: 1.012295, Train accuracy: 0.676467, Val accuracy: 0.715173\n",
      "Average loss: 0.901157, Train accuracy: 0.717384, Val accuracy: 0.735991\n",
      "Average loss: 0.841320, Train accuracy: 0.736614, Val accuracy: 0.757832\n",
      "Average loss: 0.792706, Train accuracy: 0.751357, Val accuracy: 0.766501\n",
      "Average loss: 0.760907, Train accuracy: 0.762465, Val accuracy: 0.769709\n",
      "Parameters are now lr = 0.01, anneal_epoch = 5, reg = 1e-05\n",
      "Average loss: 2.295393, Train accuracy: 0.165324, Val accuracy: 0.180261\n",
      "Average loss: 2.172698, Train accuracy: 0.225113, Val accuracy: 0.279844\n",
      "Average loss: 2.020326, Train accuracy: 0.293195, Val accuracy: 0.377926\n",
      "Average loss: 1.800855, Train accuracy: 0.387725, Val accuracy: 0.442905\n",
      "Average loss: 1.687267, Train accuracy: 0.430263, Val accuracy: 0.492048\n",
      "Average loss: 1.452250, Train accuracy: 0.516295, Val accuracy: 0.548631\n",
      "Average loss: 1.367476, Train accuracy: 0.547640, Val accuracy: 0.581121\n",
      "Average loss: 1.324770, Train accuracy: 0.565898, Val accuracy: 0.596956\n",
      "Average loss: 1.270199, Train accuracy: 0.583916, Val accuracy: 0.609378\n",
      "Average loss: 1.234811, Train accuracy: 0.599341, Val accuracy: 0.623575\n",
      "Parameters are now lr = 0.01, anneal_epoch = 10, reg = 0.001\n",
      "Average loss: 2.275249, Train accuracy: 0.172167, Val accuracy: 0.238687\n",
      "Average loss: 1.729253, Train accuracy: 0.408525, Val accuracy: 0.603918\n",
      "Average loss: 1.094831, Train accuracy: 0.647579, Val accuracy: 0.702887\n",
      "Average loss: 0.900713, Train accuracy: 0.715848, Val accuracy: 0.748686\n",
      "Average loss: 0.830605, Train accuracy: 0.740573, Val accuracy: 0.763839\n",
      "Average loss: 0.818870, Train accuracy: 0.744838, Val accuracy: 0.774213\n",
      "Average loss: 0.795943, Train accuracy: 0.752858, Val accuracy: 0.771142\n",
      "Average loss: 0.796607, Train accuracy: 0.752875, Val accuracy: 0.775851\n",
      "Average loss: 0.777024, Train accuracy: 0.759513, Val accuracy: 0.741315\n",
      "Average loss: 0.794973, Train accuracy: 0.752585, Val accuracy: 0.777763\n",
      "Parameters are now lr = 0.01, anneal_epoch = 10, reg = 0.0001\n",
      "Average loss: 2.119278, Train accuracy: 0.245521, Val accuracy: 0.388711\n",
      "Average loss: 1.717830, Train accuracy: 0.420827, Val accuracy: 0.510136\n",
      "Average loss: 1.475269, Train accuracy: 0.516807, Val accuracy: 0.550474\n",
      "Average loss: 1.340420, Train accuracy: 0.565062, Val accuracy: 0.597434\n",
      "Average loss: 1.256555, Train accuracy: 0.598335, Val accuracy: 0.646509\n",
      "Average loss: 1.168733, Train accuracy: 0.628519, Val accuracy: 0.643437\n",
      "Average loss: 1.115794, Train accuracy: 0.648005, Val accuracy: 0.652106\n",
      "Average loss: 1.085509, Train accuracy: 0.657612, Val accuracy: 0.662412\n",
      "Average loss: 1.097852, Train accuracy: 0.653875, Val accuracy: 0.695720\n",
      "Average loss: 1.053670, Train accuracy: 0.667287, Val accuracy: 0.659750\n",
      "Parameters are now lr = 0.01, anneal_epoch = 10, reg = 1e-05\n",
      "Average loss: 2.286399, Train accuracy: 0.170426, Val accuracy: 0.227493\n",
      "Average loss: 2.006967, Train accuracy: 0.296437, Val accuracy: 0.395263\n",
      "Average loss: 1.788711, Train accuracy: 0.390080, Val accuracy: 0.412054\n",
      "Average loss: 1.668088, Train accuracy: 0.440706, Val accuracy: 0.455600\n",
      "Average loss: 1.612508, Train accuracy: 0.461966, Val accuracy: 0.510068\n",
      "Average loss: 1.586742, Train accuracy: 0.473484, Val accuracy: 0.499079\n",
      "Average loss: 1.519248, Train accuracy: 0.495888, Val accuracy: 0.529930\n",
      "Average loss: 1.463387, Train accuracy: 0.518940, Val accuracy: 0.530407\n",
      "Average loss: 1.473029, Train accuracy: 0.516892, Val accuracy: 0.539349\n",
      "Average loss: 1.442985, Train accuracy: 0.528427, Val accuracy: 0.549928\n",
      "Parameters are now lr = 0.001, anneal_epoch = 2, reg = 0.001\n",
      "Average loss: 0.858316, Train accuracy: 0.724636, Val accuracy: 0.842400\n",
      "Average loss: 0.526931, Train accuracy: 0.839692, Val accuracy: 0.865265\n",
      "Average loss: 0.419450, Train accuracy: 0.875866, Val accuracy: 0.885878\n",
      "Average loss: 0.398833, Train accuracy: 0.881104, Val accuracy: 0.887380\n",
      "Average loss: 0.376819, Train accuracy: 0.888510, Val accuracy: 0.892908\n",
      "Average loss: 0.373466, Train accuracy: 0.889687, Val accuracy: 0.893659\n",
      "Average loss: 0.366850, Train accuracy: 0.891956, Val accuracy: 0.894069\n",
      "Average loss: 0.367462, Train accuracy: 0.891956, Val accuracy: 0.893932\n",
      "Average loss: 0.364796, Train accuracy: 0.892485, Val accuracy: 0.894137\n",
      "Average loss: 0.365439, Train accuracy: 0.892571, Val accuracy: 0.894205\n",
      "Parameters are now lr = 0.001, anneal_epoch = 2, reg = 0.0001\n",
      "Average loss: 0.851578, Train accuracy: 0.724789, Val accuracy: 0.842809\n",
      "Average loss: 0.508662, Train accuracy: 0.845562, Val accuracy: 0.872637\n",
      "Average loss: 0.400595, Train accuracy: 0.879006, Val accuracy: 0.887653\n",
      "Average loss: 0.377852, Train accuracy: 0.885967, Val accuracy: 0.890315\n",
      "Average loss: 0.357187, Train accuracy: 0.893117, Val accuracy: 0.893796\n",
      "Average loss: 0.350170, Train accuracy: 0.894414, Val accuracy: 0.895161\n",
      "Average loss: 0.346370, Train accuracy: 0.896188, Val accuracy: 0.895843\n",
      "Average loss: 0.344113, Train accuracy: 0.897553, Val accuracy: 0.895707\n",
      "Average loss: 0.343103, Train accuracy: 0.897792, Val accuracy: 0.895843\n",
      "Average loss: 0.345776, Train accuracy: 0.896103, Val accuracy: 0.895570\n",
      "Parameters are now lr = 0.001, anneal_epoch = 2, reg = 1e-05\n",
      "Average loss: 0.859653, Train accuracy: 0.725455, Val accuracy: 0.839874\n",
      "Average loss: 0.513446, Train accuracy: 0.844197, Val accuracy: 0.862945\n",
      "Average loss: 0.405203, Train accuracy: 0.878647, Val accuracy: 0.887721\n",
      "Average loss: 0.379661, Train accuracy: 0.887691, Val accuracy: 0.891202\n",
      "Average loss: 0.358033, Train accuracy: 0.892929, Val accuracy: 0.895092\n",
      "Average loss: 0.355311, Train accuracy: 0.894755, Val accuracy: 0.895366\n",
      "Average loss: 0.350731, Train accuracy: 0.895983, Val accuracy: 0.896662\n",
      "Average loss: 0.349544, Train accuracy: 0.896529, Val accuracy: 0.896116\n",
      "Average loss: 0.348107, Train accuracy: 0.896461, Val accuracy: 0.896662\n",
      "Average loss: 0.346340, Train accuracy: 0.897997, Val accuracy: 0.896526\n",
      "Parameters are now lr = 0.001, anneal_epoch = 5, reg = 0.001\n",
      "Average loss: 0.842226, Train accuracy: 0.730898, Val accuracy: 0.820558\n",
      "Average loss: 0.541777, Train accuracy: 0.834744, Val accuracy: 0.862467\n",
      "Average loss: 0.470857, Train accuracy: 0.856465, Val accuracy: 0.873592\n",
      "Average loss: 0.430209, Train accuracy: 0.869450, Val accuracy: 0.878302\n",
      "Average loss: 0.404775, Train accuracy: 0.876685, Val accuracy: 0.877551\n",
      "Average loss: 0.333963, Train accuracy: 0.899532, Val accuracy: 0.905672\n",
      "Average loss: 0.321925, Train accuracy: 0.904140, Val accuracy: 0.905740\n",
      "Average loss: 0.315458, Train accuracy: 0.906494, Val accuracy: 0.907105\n",
      "Average loss: 0.312429, Train accuracy: 0.906614, Val accuracy: 0.908129\n",
      "Average loss: 0.306305, Train accuracy: 0.908849, Val accuracy: 0.908812\n",
      "Parameters are now lr = 0.001, anneal_epoch = 5, reg = 0.0001\n",
      "Average loss: 0.866297, Train accuracy: 0.723083, Val accuracy: 0.847655\n",
      "Average loss: 0.506925, Train accuracy: 0.845954, Val accuracy: 0.873797\n",
      "Average loss: 0.434264, Train accuracy: 0.867693, Val accuracy: 0.882875\n",
      "Average loss: 0.390964, Train accuracy: 0.882862, Val accuracy: 0.891680\n",
      "Average loss: 0.361661, Train accuracy: 0.889789, Val accuracy: 0.893454\n",
      "Average loss: 0.293604, Train accuracy: 0.912978, Val accuracy: 0.907378\n",
      "Average loss: 0.277612, Train accuracy: 0.918302, Val accuracy: 0.910382\n",
      "Average loss: 0.270686, Train accuracy: 0.919343, Val accuracy: 0.909153\n",
      "Average loss: 0.262364, Train accuracy: 0.922397, Val accuracy: 0.911747\n",
      "Average loss: 0.255965, Train accuracy: 0.925503, Val accuracy: 0.910586\n",
      "Parameters are now lr = 0.001, anneal_epoch = 5, reg = 1e-05\n",
      "Average loss: 0.847358, Train accuracy: 0.729072, Val accuracy: 0.828135\n",
      "Average loss: 0.516422, Train accuracy: 0.844009, Val accuracy: 0.869906\n",
      "Average loss: 0.439520, Train accuracy: 0.867556, Val accuracy: 0.877756\n",
      "Average loss: 0.398230, Train accuracy: 0.879876, Val accuracy: 0.884650\n",
      "Average loss: 0.365336, Train accuracy: 0.888561, Val accuracy: 0.890315\n",
      "Average loss: 0.298234, Train accuracy: 0.911425, Val accuracy: 0.903215\n",
      "Average loss: 0.281851, Train accuracy: 0.917176, Val accuracy: 0.904375\n",
      "Average loss: 0.271993, Train accuracy: 0.919206, Val accuracy: 0.903624\n",
      "Average loss: 0.263316, Train accuracy: 0.922414, Val accuracy: 0.906218\n",
      "Average loss: 0.255531, Train accuracy: 0.924530, Val accuracy: 0.904716\n",
      "Parameters are now lr = 0.001, anneal_epoch = 10, reg = 0.001\n",
      "Average loss: 0.854890, Train accuracy: 0.725557, Val accuracy: 0.836393\n",
      "Average loss: 0.541601, Train accuracy: 0.835819, Val accuracy: 0.863286\n",
      "Average loss: 0.469396, Train accuracy: 0.857421, Val accuracy: 0.873729\n",
      "Average loss: 0.426855, Train accuracy: 0.870593, Val accuracy: 0.884376\n",
      "Average loss: 0.401177, Train accuracy: 0.877419, Val accuracy: 0.888062\n",
      "Average loss: 0.379511, Train accuracy: 0.885916, Val accuracy: 0.894137\n",
      "Average loss: 0.361907, Train accuracy: 0.891018, Val accuracy: 0.896526\n",
      "Average loss: 0.356930, Train accuracy: 0.893185, Val accuracy: 0.892158\n",
      "Average loss: 0.345294, Train accuracy: 0.894840, Val accuracy: 0.892908\n",
      "Average loss: 0.337700, Train accuracy: 0.897468, Val accuracy: 0.897072\n",
      "Parameters are now lr = 0.001, anneal_epoch = 10, reg = 0.0001\n",
      "Average loss: 0.917183, Train accuracy: 0.702744, Val accuracy: 0.837622\n",
      "Average loss: 0.528856, Train accuracy: 0.840818, Val accuracy: 0.871749\n",
      "Average loss: 0.446561, Train accuracy: 0.865031, Val accuracy: 0.881783\n",
      "Average loss: 0.400725, Train accuracy: 0.879995, Val accuracy: 0.884786\n",
      "Average loss: 0.374051, Train accuracy: 0.887230, Val accuracy: 0.891202\n",
      "Average loss: 0.349361, Train accuracy: 0.894158, Val accuracy: 0.892704\n",
      "Average loss: 0.330469, Train accuracy: 0.899447, Val accuracy: 0.895092\n",
      "Average loss: 0.315716, Train accuracy: 0.904447, Val accuracy: 0.895297\n",
      "Average loss: 0.297459, Train accuracy: 0.910265, Val accuracy: 0.900962\n",
      "Average loss: 0.285588, Train accuracy: 0.913166, Val accuracy: 0.903693\n",
      "Parameters are now lr = 0.001, anneal_epoch = 10, reg = 1e-05\n",
      "Average loss: 0.856538, Train accuracy: 0.723714, Val accuracy: 0.847792\n",
      "Average loss: 0.515187, Train accuracy: 0.844214, Val accuracy: 0.866699\n",
      "Average loss: 0.442129, Train accuracy: 0.865986, Val accuracy: 0.881578\n",
      "Average loss: 0.399997, Train accuracy: 0.879091, Val accuracy: 0.890792\n",
      "Average loss: 0.368686, Train accuracy: 0.888783, Val accuracy: 0.893113\n",
      "Average loss: 0.346855, Train accuracy: 0.895813, Val accuracy: 0.893113\n",
      "Average loss: 0.325717, Train accuracy: 0.900846, Val accuracy: 0.895434\n",
      "Average loss: 0.311380, Train accuracy: 0.906443, Val accuracy: 0.901645\n",
      "Average loss: 0.295562, Train accuracy: 0.909412, Val accuracy: 0.900143\n",
      "Average loss: 0.284558, Train accuracy: 0.913951, Val accuracy: 0.898437\n"
     ]
    }
   ],
   "source": [
    "# The key hyperparameters we're going to tune are learning speed, annealing rate and regularization\n",
    "# We also encourage you to try different optimizers as well\n",
    "\n",
    "Hyperparams = namedtuple(\"Hyperparams\", ['learning_rate', 'anneal_epochs', 'reg'])\n",
    "RunResult = namedtuple(\"RunResult\", ['model', 'optimizer', 'train_history', 'val_history', 'final_val_accuracy'])\n",
    "\n",
    "learning_rates = [1e-1, 1e-2, 1e-3]\n",
    "anneal_coeff = 0.2\n",
    "anneal_epochs = [2, 5, 10]\n",
    "regs = [1e-3, 1e-4, 1e-5]\n",
    "\n",
    "\n",
    "batch_size = 64\n",
    "epoch_num = 10\n",
    "\n",
    "# Record all the runs here\n",
    "# Key should be Hyperparams and values should be RunResult\n",
    "run_record = {} \n",
    "\n",
    "# Use grid search or random search and record all runs in run_record dictionnary \n",
    "# Important: perform search in logarithmic space!\n",
    "\n",
    "# TODO: Your code here!\n",
    "for lr in learning_rates:\n",
    "    for anneal_epoch in anneal_epochs:\n",
    "        for reg in regs:\n",
    "            print(f'Parameters are now lr = {lr}, anneal_epoch = {anneal_epoch}, reg = {reg}')\n",
    "            lenet_model = nn.Sequential(\n",
    "                nn.Conv2d(3, 6, 5, stride = 1, padding = 2, bias = True),\n",
    "                nn.Tanh(),\n",
    "                nn.MaxPool2d(kernel_size = 2),\n",
    "                nn.Conv2d(6, 16, 5, stride =1, padding = 0, bias = True),\n",
    "                nn.Tanh(),\n",
    "                nn.MaxPool2d(kernel_size = 2),\n",
    "                nn.Conv2d(16, 120, 5, stride = 1, padding = 0, bias = True),\n",
    "                nn.Tanh(),\n",
    "                Flattener(),\n",
    "                nn.Linear(4*120, 84),\n",
    "                nn.Tanh(),\n",
    "                nn.Linear(84, 10))\n",
    "            lenet_model.type(torch.cuda.FloatTensor)\n",
    "            lenet_model.to(device)\n",
    "            \n",
    "            loss = nn.CrossEntropyLoss().type(torch.cuda.FloatTensor)\n",
    "            \n",
    "            hprparams = Hyperparams(lr, anneal_epoch, reg)\n",
    "            optimizer = optim.Adam(lenet_model.parameters(), lr=lr, weight_decay=reg)\n",
    "            loss_history, train_history, val_history = train_model_param(lenet_model, train_aug_loader, val_loader, loss, optimizer, epoch_num, anneal_epoch, 0.2)\n",
    "            reses = RunResult(lenet_model, optimizer, train_history, val_history, val_history[-1])\n",
    "            run_record[hprparams] = reses\n",
    "      \n",
    "      \n",
    "      \n",
    "      \n"
   ]
  },
  {
   "cell_type": "code",
   "execution_count": 0,
   "metadata": {
    "colab": {
     "base_uri": "https://localhost:8080/",
     "height": 34
    },
    "colab_type": "code",
    "executionInfo": {
     "elapsed": 738,
     "status": "ok",
     "timestamp": 1555081042212,
     "user": {
      "displayName": "John Dolgov",
      "photoUrl": "https://lh5.googleusercontent.com/-vdPwcgGlEA0/AAAAAAAAAAI/AAAAAAAAADo/agh7TOGwJQc/s64/photo.jpg",
      "userId": "14511337248298390024"
     },
     "user_tz": -180
    },
    "id": "Y6xExdw8JB1l",
    "outputId": "718c79e3-a549-4174-df77-8a3a947e15ea"
   },
   "outputs": [
    {
     "name": "stdout",
     "output_type": "stream",
     "text": [
      "Best validation accuracy: 0.91, best hyperparams: Hyperparams(learning_rate=0.001, anneal_epochs=5, reg=0.0001)\n"
     ]
    }
   ],
   "source": [
    "best_val_accuracy = None\n",
    "best_hyperparams = None\n",
    "best_run = None\n",
    "\n",
    "for hyperparams, run_result in run_record.items():\n",
    "    if best_val_accuracy is None or best_val_accuracy < run_result.final_val_accuracy:\n",
    "        best_val_accuracy = run_result.final_val_accuracy\n",
    "        best_hyperparams = hyperparams\n",
    "        best_run = run_result\n",
    "        \n",
    "print(\"Best validation accuracy: %4.2f, best hyperparams: %s\" % (best_val_accuracy, best_hyperparams))\n",
    "        "
   ]
  },
  {
   "cell_type": "markdown",
   "metadata": {
    "colab_type": "text",
    "id": "LOmsR0uVgtgf"
   },
   "source": [
    "# Свободное упражнение - догоним и перегоним LeNet!\n",
    "\n",
    "Попробуйте найти архитектуру и настройки тренировки, чтобы выступить лучше наших бейзлайнов.\n",
    "\n",
    "Что можно и нужно попробовать:\n",
    "- BatchNormalization (для convolution layers он в PyTorch называется [batchnorm2d](https://pytorch.org/docs/stable/nn.html#batchnorm2d))\n",
    "- Изменить количество слоев и их толщину\n",
    "- Изменять количество эпох тренировки\n",
    "- Попробовать и другие агментации"
   ]
  },
  {
   "cell_type": "code",
   "execution_count": 0,
   "metadata": {
    "colab": {
     "base_uri": "https://localhost:8080/",
     "height": 1630
    },
    "colab_type": "code",
    "executionInfo": {
     "elapsed": 4731386,
     "status": "ok",
     "timestamp": 1555092617787,
     "user": {
      "displayName": "John Dolgov",
      "photoUrl": "https://lh5.googleusercontent.com/-vdPwcgGlEA0/AAAAAAAAAAI/AAAAAAAAADo/agh7TOGwJQc/s64/photo.jpg",
      "userId": "14511337248298390024"
     },
     "user_tz": -180
    },
    "id": "QLPJxHgelCxN",
    "outputId": "ddf1d2bf-1dc1-490a-86e8-8a309972181a"
   },
   "outputs": [
    {
     "name": "stdout",
     "output_type": "stream",
     "text": [
      "Parameters are now lr = 0.1, reg = 0.001\n",
      "Average loss: 2.251233, Train accuracy: 0.185595, Val accuracy: 0.167224\n",
      "Average loss: 2.248739, Train accuracy: 0.185732, Val accuracy: 0.064364\n",
      "Average loss: 2.248040, Train accuracy: 0.185868, Val accuracy: 0.189885\n",
      "Average loss: 2.247437, Train accuracy: 0.186363, Val accuracy: 0.189885\n",
      "Average loss: 2.248404, Train accuracy: 0.186739, Val accuracy: 0.189885\n",
      "Average loss: 2.241328, Train accuracy: 0.189042, Val accuracy: 0.189885\n",
      "Average loss: 2.241139, Train accuracy: 0.188923, Val accuracy: 0.189885\n",
      "Average loss: 2.241302, Train accuracy: 0.189042, Val accuracy: 0.189885\n",
      "Average loss: 2.241184, Train accuracy: 0.189042, Val accuracy: 0.189885\n",
      "Average loss: 2.241267, Train accuracy: 0.188650, Val accuracy: 0.189885\n",
      "Average loss: 2.239994, Train accuracy: 0.189042, Val accuracy: 0.189885\n",
      "Average loss: 2.239859, Train accuracy: 0.189042, Val accuracy: 0.189885\n",
      "Average loss: 2.239920, Train accuracy: 0.189042, Val accuracy: 0.189885\n",
      "Average loss: 2.239925, Train accuracy: 0.189042, Val accuracy: 0.189885\n",
      "Average loss: 2.239813, Train accuracy: 0.189042, Val accuracy: 0.189885\n",
      "Parameters are now lr = 0.01, reg = 0.001\n",
      "Average loss: 0.792713, Train accuracy: 0.743064, Val accuracy: 0.841513\n",
      "Average loss: 0.582963, Train accuracy: 0.818483, Val accuracy: 0.846017\n",
      "Average loss: 0.564702, Train accuracy: 0.824131, Val accuracy: 0.831411\n",
      "Average loss: 0.551119, Train accuracy: 0.830359, Val accuracy: 0.817419\n",
      "Average loss: 0.546512, Train accuracy: 0.831280, Val accuracy: 0.825746\n",
      "Average loss: 0.412996, Train accuracy: 0.873887, Val accuracy: 0.893454\n",
      "Average loss: 0.389968, Train accuracy: 0.880797, Val accuracy: 0.892431\n",
      "Average loss: 0.379209, Train accuracy: 0.885319, Val accuracy: 0.893727\n",
      "Average loss: 0.369404, Train accuracy: 0.889687, Val accuracy: 0.897686\n",
      "Average loss: 0.369606, Train accuracy: 0.886428, Val accuracy: 0.902259\n",
      "Average loss: 0.314548, Train accuracy: 0.905556, Val accuracy: 0.914477\n",
      "Average loss: 0.305192, Train accuracy: 0.909020, Val accuracy: 0.914750\n",
      "Average loss: 0.298957, Train accuracy: 0.909770, Val accuracy: 0.913794\n",
      "Average loss: 0.295243, Train accuracy: 0.911920, Val accuracy: 0.918572\n",
      "Average loss: 0.289097, Train accuracy: 0.913797, Val accuracy: 0.916456\n",
      "Parameters are now lr = 0.001, reg = 0.001\n",
      "Average loss: 0.699982, Train accuracy: 0.788452, Val accuracy: 0.883967\n",
      "Average loss: 0.406670, Train accuracy: 0.876224, Val accuracy: 0.899393\n",
      "Average loss: 0.355045, Train accuracy: 0.891974, Val accuracy: 0.909153\n",
      "Average loss: 0.329685, Train accuracy: 0.900181, Val accuracy: 0.906150\n",
      "Average loss: 0.314130, Train accuracy: 0.903884, Val accuracy: 0.911815\n",
      "Average loss: 0.235254, Train accuracy: 0.931304, Val accuracy: 0.929971\n",
      "Average loss: 0.210172, Train accuracy: 0.939272, Val accuracy: 0.931131\n",
      "Average loss: 0.199124, Train accuracy: 0.942770, Val accuracy: 0.929288\n",
      "Average loss: 0.187762, Train accuracy: 0.944647, Val accuracy: 0.929629\n",
      "Average loss: 0.178744, Train accuracy: 0.947650, Val accuracy: 0.931063\n",
      "Average loss: 0.154369, Train accuracy: 0.955943, Val accuracy: 0.932428\n",
      "Average loss: 0.144906, Train accuracy: 0.958997, Val accuracy: 0.932360\n",
      "Average loss: 0.140243, Train accuracy: 0.960533, Val accuracy: 0.932564\n",
      "Average loss: 0.136091, Train accuracy: 0.962410, Val accuracy: 0.932087\n",
      "Average loss: 0.132260, Train accuracy: 0.962427, Val accuracy: 0.932496\n",
      "Parameters are now lr = 0.1, reg = 0.0001\n",
      "Average loss: 2.251699, Train accuracy: 0.185766, Val accuracy: 0.183264\n",
      "Average loss: 2.248594, Train accuracy: 0.187336, Val accuracy: 0.189885\n",
      "Average loss: 2.247858, Train accuracy: 0.186807, Val accuracy: 0.189885\n",
      "Average loss: 2.248992, Train accuracy: 0.187114, Val accuracy: 0.189885\n",
      "Average loss: 2.249359, Train accuracy: 0.187080, Val accuracy: 0.189885\n",
      "Average loss: 2.241465, Train accuracy: 0.189042, Val accuracy: 0.189885\n",
      "Average loss: 2.241417, Train accuracy: 0.189042, Val accuracy: 0.189885\n",
      "Average loss: 2.241117, Train accuracy: 0.189042, Val accuracy: 0.189885\n",
      "Average loss: 2.241728, Train accuracy: 0.189042, Val accuracy: 0.189885\n",
      "Average loss: 2.241358, Train accuracy: 0.189042, Val accuracy: 0.189885\n",
      "Average loss: 2.239990, Train accuracy: 0.189042, Val accuracy: 0.189885\n",
      "Average loss: 2.239778, Train accuracy: 0.189042, Val accuracy: 0.189885\n",
      "Average loss: 2.239882, Train accuracy: 0.189042, Val accuracy: 0.189885\n",
      "Average loss: 2.239821, Train accuracy: 0.189042, Val accuracy: 0.189885\n",
      "Average loss: 2.239842, Train accuracy: 0.189042, Val accuracy: 0.189885\n",
      "Parameters are now lr = 0.01, reg = 0.0001\n",
      "Average loss: 0.766920, Train accuracy: 0.750759, Val accuracy: 0.835643\n",
      "Average loss: 0.482302, Train accuracy: 0.850305, Val accuracy: 0.869770\n",
      "Average loss: 0.450814, Train accuracy: 0.861567, Val accuracy: 0.881169\n",
      "Average loss: 0.436052, Train accuracy: 0.865765, Val accuracy: 0.872295\n",
      "Average loss: 0.423893, Train accuracy: 0.868478, Val accuracy: 0.882397\n",
      "Average loss: 0.319916, Train accuracy: 0.903047, Val accuracy: 0.915296\n",
      "Average loss: 0.284937, Train accuracy: 0.914736, Val accuracy: 0.915569\n",
      "Average loss: 0.272471, Train accuracy: 0.916920, Val accuracy: 0.916388\n",
      "Average loss: 0.262845, Train accuracy: 0.919377, Val accuracy: 0.918982\n",
      "Average loss: 0.254330, Train accuracy: 0.923745, Val accuracy: 0.918026\n",
      "Average loss: 0.210217, Train accuracy: 0.936918, Val accuracy: 0.925329\n",
      "Average loss: 0.198980, Train accuracy: 0.940501, Val accuracy: 0.926285\n",
      "Average loss: 0.191564, Train accuracy: 0.942856, Val accuracy: 0.926421\n",
      "Average loss: 0.185798, Train accuracy: 0.944528, Val accuracy: 0.925944\n",
      "Average loss: 0.179771, Train accuracy: 0.946081, Val accuracy: 0.924237\n",
      "Parameters are now lr = 0.001, reg = 0.0001\n",
      "Average loss: 0.670405, Train accuracy: 0.798007, Val accuracy: 0.883148\n",
      "Average loss: 0.385553, Train accuracy: 0.881719, Val accuracy: 0.901372\n",
      "Average loss: 0.328386, Train accuracy: 0.899805, Val accuracy: 0.914477\n",
      "Average loss: 0.295493, Train accuracy: 0.911460, Val accuracy: 0.917821\n",
      "Average loss: 0.267861, Train accuracy: 0.918114, Val accuracy: 0.918163\n",
      "Average loss: 0.201605, Train accuracy: 0.940467, Val accuracy: 0.932291\n",
      "Average loss: 0.179603, Train accuracy: 0.947207, Val accuracy: 0.930244\n",
      "Average loss: 0.170051, Train accuracy: 0.950415, Val accuracy: 0.930721\n",
      "Average loss: 0.161134, Train accuracy: 0.953111, Val accuracy: 0.930244\n",
      "Average loss: 0.151262, Train accuracy: 0.955124, Val accuracy: 0.930175\n",
      "Average loss: 0.133586, Train accuracy: 0.960857, Val accuracy: 0.932155\n",
      "Average loss: 0.127863, Train accuracy: 0.963007, Val accuracy: 0.932496\n",
      "Average loss: 0.125750, Train accuracy: 0.963161, Val accuracy: 0.931541\n",
      "Average loss: 0.122680, Train accuracy: 0.964372, Val accuracy: 0.930721\n",
      "Average loss: 0.120885, Train accuracy: 0.965089, Val accuracy: 0.930721\n"
     ]
    }
   ],
   "source": [
    "Hyperparams = namedtuple(\"Hyperparams\", ['learning_rate', 'reg'])\n",
    "RunResult = namedtuple(\"RunResult\", ['model', 'optimizer', 'train_history', 'val_history', 'final_val_accuracy'])\n",
    "\n",
    "learning_rates = [1e-1, 1e-2, 1e-3]\n",
    "anneal_coeff = 0.2\n",
    "anneal_epoch = 5\n",
    "regs = [1e-3, 1e-4]\n",
    "\n",
    "batch_size = 64\n",
    "epoch_num = 15\n",
    "\n",
    "run_record_param = {} \n",
    "\n",
    "for reg in regs:\n",
    "    for lr in learning_rates:\n",
    "        print(f'Parameters are now lr = {lr}, reg = {reg}')\n",
    "        lenet_model_modif = nn.Sequential(\n",
    "            nn.Conv2d(3, 12, 5, stride = 1, padding = 2, bias = True),\n",
    "            nn.BatchNorm2d(12),\n",
    "            nn.ReLU(),\n",
    "            nn.MaxPool2d(kernel_size = 2),\n",
    "            nn.Conv2d(12, 32, 5, stride =1, padding = 0, bias = True),\n",
    "            nn.BatchNorm2d(32),\n",
    "            nn.ReLU(),\n",
    "            nn.MaxPool2d(kernel_size = 2),\n",
    "            nn.Conv2d(32, 128, 5, stride = 1, padding = 0, bias = True),\n",
    "            nn.BatchNorm2d(128),\n",
    "            nn.ReLU(),\n",
    "            Flattener(),\n",
    "            nn.Linear(4*128, 100),\n",
    "            nn.BatchNorm1d(100),\n",
    "            nn.ReLU(),\n",
    "            nn.Linear(100, 10))\n",
    "        lenet_model_modif.type(torch.cuda.FloatTensor)\n",
    "        lenet_model_modif.to(device)\n",
    "        \n",
    "        loss = nn.CrossEntropyLoss().type(torch.cuda.FloatTensor)\n",
    "        optimizer = optim.Adam(lenet_model_modif.parameters(), lr=lr, weight_decay=reg)\n",
    "        \n",
    "        hprparams = Hyperparams(lr, reg)\n",
    "        optimizer = optim.Adam(lenet_model_modif.parameters(), lr=lr, weight_decay=reg)\n",
    "        loss_history, train_history, val_history = train_model_param(lenet_model_modif, train_aug_loader, val_loader, loss, optimizer, epoch_num, anneal_epoch, anneal_coeff)\n",
    "        reses = RunResult(lenet_model_modif, optimizer, train_history, val_history, val_history[-1])\n",
    "        run_record_param[hprparams] = reses"
   ]
  },
  {
   "cell_type": "code",
   "execution_count": 0,
   "metadata": {
    "colab": {
     "base_uri": "https://localhost:8080/",
     "height": 34
    },
    "colab_type": "code",
    "executionInfo": {
     "elapsed": 1573,
     "status": "ok",
     "timestamp": 1555093213417,
     "user": {
      "displayName": "John Dolgov",
      "photoUrl": "https://lh5.googleusercontent.com/-vdPwcgGlEA0/AAAAAAAAAAI/AAAAAAAAADo/agh7TOGwJQc/s64/photo.jpg",
      "userId": "14511337248298390024"
     },
     "user_tz": -180
    },
    "id": "D4j-JGQUxYll",
    "outputId": "eb227236-ef53-47fb-c377-b7a6980c6441"
   },
   "outputs": [
    {
     "name": "stdout",
     "output_type": "stream",
     "text": [
      "Best validation accuracy: 0.93, best hyperparams: Hyperparams(learning_rate=0.001, reg=0.001)\n"
     ]
    }
   ],
   "source": [
    "best_val_accuracy = None\n",
    "best_hyperparams = None\n",
    "best_run = None\n",
    "\n",
    "for hyperparams, run_result in run_record_param.items():\n",
    "    if best_val_accuracy is None or best_val_accuracy < run_result.final_val_accuracy:\n",
    "        best_val_accuracy = run_result.final_val_accuracy\n",
    "        best_hyperparams = hyperparams\n",
    "        best_run = run_result\n",
    "        best_model = run_result.model\n",
    "        \n",
    "print(\"Best validation accuracy: %4.2f, best hyperparams: %s\" % (best_val_accuracy, best_hyperparams))\n",
    "        "
   ]
  },
  {
   "cell_type": "markdown",
   "metadata": {
    "colab_type": "text",
    "id": "pDrK3Dwy7TNN"
   },
   "source": [
    "# Финальный аккорд - проверим лучшую модель на test set\n",
    "\n",
    "В качестве разнообразия - напишите код для прогона модели на test set вы.\n",
    "\n",
    "В результате вы должны натренировать модель, которая покажет более **90%** точности на test set.  \n",
    "Как водится, лучший результат в группе получит дополнительные баллы!\n"
   ]
  },
  {
   "cell_type": "code",
   "execution_count": 0,
   "metadata": {
    "colab": {
     "base_uri": "https://localhost:8080/",
     "height": 34
    },
    "colab_type": "code",
    "executionInfo": {
     "elapsed": 9025,
     "status": "ok",
     "timestamp": 1555093237359,
     "user": {
      "displayName": "John Dolgov",
      "photoUrl": "https://lh5.googleusercontent.com/-vdPwcgGlEA0/AAAAAAAAAAI/AAAAAAAAADo/agh7TOGwJQc/s64/photo.jpg",
      "userId": "14511337248298390024"
     },
     "user_tz": -180
    },
    "id": "APtlcnckxioT",
    "outputId": "1a74a54e-a32a-47bf-da0d-a38fe860cf67"
   },
   "outputs": [
    {
     "name": "stdout",
     "output_type": "stream",
     "text": [
      "Final test accuracy -  0.9292409342347879\n"
     ]
    }
   ],
   "source": [
    "final_test_accuracy = 0.0\n",
    "batch_size = 64\n",
    "test_loader = torch.utils.data.DataLoader(data_test, batch_size=batch_size)\n",
    "final_test_accuracy = compute_accuracy(best_model, test_loader)\n",
    "print(\"Final test accuracy - \", final_test_accuracy)"
   ]
  },
  {
   "cell_type": "code",
   "execution_count": 18,
   "metadata": {
    "colab": {
     "base_uri": "https://localhost:8080/",
     "height": 1092
    },
    "colab_type": "code",
    "executionInfo": {
     "elapsed": 3260063,
     "status": "ok",
     "timestamp": 1555098619165,
     "user": {
      "displayName": "John Dolgov",
      "photoUrl": "https://lh5.googleusercontent.com/-vdPwcgGlEA0/AAAAAAAAAAI/AAAAAAAAADo/agh7TOGwJQc/s64/photo.jpg",
      "userId": "14511337248298390024"
     },
     "user_tz": -180
    },
    "id": "Y8urA6o5ah9j",
    "outputId": "ff0e47fc-ba96-43eb-8b8d-069bc7c40d7b"
   },
   "outputs": [
    {
     "name": "stdout",
     "output_type": "stream",
     "text": [
      "Parameters are now lr = 0.01, reg = 0.001\n",
      "Average loss: 0.900642, Train accuracy: 0.702556, Val accuracy: 0.821992\n",
      "Average loss: 0.577501, Train accuracy: 0.819899, Val accuracy: 0.845267\n",
      "Average loss: 0.555664, Train accuracy: 0.826929, Val accuracy: 0.850795\n",
      "Average loss: 0.541654, Train accuracy: 0.833106, Val accuracy: 0.814961\n",
      "Average loss: 0.528766, Train accuracy: 0.836962, Val accuracy: 0.817828\n",
      "Average loss: 0.392377, Train accuracy: 0.880285, Val accuracy: 0.890315\n",
      "Average loss: 0.364841, Train accuracy: 0.889039, Val accuracy: 0.892362\n",
      "Average loss: 0.358686, Train accuracy: 0.890421, Val accuracy: 0.899802\n",
      "Average loss: 0.353103, Train accuracy: 0.892554, Val accuracy: 0.895297\n",
      "Average loss: 0.348003, Train accuracy: 0.894960, Val accuracy: 0.894000\n",
      "Average loss: 0.298086, Train accuracy: 0.910436, Val accuracy: 0.911883\n",
      "Average loss: 0.281000, Train accuracy: 0.916510, Val accuracy: 0.913999\n",
      "Average loss: 0.274461, Train accuracy: 0.918677, Val accuracy: 0.914477\n",
      "Average loss: 0.269189, Train accuracy: 0.920076, Val accuracy: 0.916593\n",
      "Average loss: 0.264677, Train accuracy: 0.921595, Val accuracy: 0.913180\n",
      "Parameters are now lr = 0.001, reg = 0.001\n",
      "Average loss: 0.648664, Train accuracy: 0.802989, Val accuracy: 0.880418\n",
      "Average loss: 0.375040, Train accuracy: 0.886769, Val accuracy: 0.902054\n",
      "Average loss: 0.329593, Train accuracy: 0.899532, Val accuracy: 0.910586\n",
      "Average loss: 0.304188, Train accuracy: 0.907859, Val accuracy: 0.908266\n",
      "Average loss: 0.293188, Train accuracy: 0.910402, Val accuracy: 0.915023\n",
      "Average loss: 0.207331, Train accuracy: 0.939563, Val accuracy: 0.932837\n",
      "Average loss: 0.179544, Train accuracy: 0.948179, Val accuracy: 0.932701\n",
      "Average loss: 0.163271, Train accuracy: 0.953930, Val accuracy: 0.933861\n",
      "Average loss: 0.151159, Train accuracy: 0.957001, Val accuracy: 0.932223\n",
      "Average loss: 0.139743, Train accuracy: 0.959441, Val accuracy: 0.932291\n",
      "Average loss: 0.110613, Train accuracy: 0.970822, Val accuracy: 0.937001\n",
      "Average loss: 0.100953, Train accuracy: 0.973074, Val accuracy: 0.937137\n",
      "Average loss: 0.093466, Train accuracy: 0.975736, Val accuracy: 0.935909\n",
      "Average loss: 0.091085, Train accuracy: 0.976265, Val accuracy: 0.933588\n",
      "Average loss: 0.085405, Train accuracy: 0.978227, Val accuracy: 0.935772\n",
      "Parameters are now lr = 0.01, reg = 0.0001\n",
      "Average loss: 0.816281, Train accuracy: 0.730830, Val accuracy: 0.849908\n",
      "Average loss: 0.465489, Train accuracy: 0.857318, Val accuracy: 0.866630\n",
      "Average loss: 0.422648, Train accuracy: 0.870764, Val accuracy: 0.872637\n",
      "Average loss: 0.409294, Train accuracy: 0.874723, Val accuracy: 0.879803\n",
      "Average loss: 0.399872, Train accuracy: 0.876770, Val accuracy: 0.880827\n",
      "Average loss: 0.288700, Train accuracy: 0.912193, Val accuracy: 0.918777\n",
      "Average loss: 0.260745, Train accuracy: 0.920981, Val accuracy: 0.919732\n",
      "Average loss: 0.250362, Train accuracy: 0.925997, Val accuracy: 0.921917\n",
      "Average loss: 0.234942, Train accuracy: 0.929342, Val accuracy: 0.925193\n",
      "Average loss: 0.230135, Train accuracy: 0.930860, Val accuracy: 0.923759\n",
      "Average loss: 0.184575, Train accuracy: 0.945620, Val accuracy: 0.930380\n",
      "Average loss: 0.170109, Train accuracy: 0.949698, Val accuracy: 0.931131\n",
      "Average loss: 0.162624, Train accuracy: 0.952394, Val accuracy: 0.929902\n",
      "Average loss: 0.155402, Train accuracy: 0.954783, Val accuracy: 0.930721\n",
      "Average loss: 0.150139, Train accuracy: 0.955346, Val accuracy: 0.930039\n",
      "Parameters are now lr = 0.001, reg = 0.0001\n",
      "Average loss: 0.647289, Train accuracy: 0.802631, Val accuracy: 0.885059\n",
      "Average loss: 0.357134, Train accuracy: 0.891427, Val accuracy: 0.904170\n",
      "Average loss: 0.298273, Train accuracy: 0.909156, Val accuracy: 0.913590\n",
      "Average loss: 0.263379, Train accuracy: 0.920418, Val accuracy: 0.919801\n",
      "Average loss: 0.242184, Train accuracy: 0.926049, Val accuracy: 0.920756\n",
      "Average loss: 0.167452, Train accuracy: 0.952240, Val accuracy: 0.937069\n",
      "Average loss: 0.142663, Train accuracy: 0.959356, Val accuracy: 0.937206\n",
      "Average loss: 0.129118, Train accuracy: 0.963690, Val accuracy: 0.934680\n",
      "Average loss: 0.116333, Train accuracy: 0.966761, Val accuracy: 0.933998\n",
      "Average loss: 0.106286, Train accuracy: 0.969491, Val accuracy: 0.936455\n",
      "Average loss: 0.084627, Train accuracy: 0.976726, Val accuracy: 0.937752\n",
      "Average loss: 0.077991, Train accuracy: 0.978808, Val accuracy: 0.937206\n",
      "Average loss: 0.074275, Train accuracy: 0.979524, Val accuracy: 0.936864\n",
      "Average loss: 0.069757, Train accuracy: 0.981077, Val accuracy: 0.937274\n",
      "Average loss: 0.068147, Train accuracy: 0.981760, Val accuracy: 0.936250\n"
     ]
    }
   ],
   "source": [
    "Hyperparams = namedtuple(\"Hyperparams\", ['learning_rate', 'reg'])\n",
    "RunResult = namedtuple(\"RunResult\", ['model', 'optimizer', 'train_history', 'val_history', 'final_val_accuracy'])\n",
    "learning_rates = [1e-2, 1e-3]\n",
    "anneal_coeff = 0.2\n",
    "anneal_epoch = 5\n",
    "regs = [1e-3, 1e-4]\n",
    "run_record_param = {} \n",
    "\n",
    "batch_size = 64\n",
    "epoch_num = 15\n",
    "for reg in regs:\n",
    "    for lr in learning_rates:\n",
    "        print(f'Parameters are now lr = {lr}, reg = {reg}')\n",
    "        lenet_model_modif = nn.Sequential(\n",
    "            nn.Conv2d(3, 32, 5, stride = 1, padding = 2, bias = True),\n",
    "            nn.BatchNorm2d(32),\n",
    "            nn.ReLU(),\n",
    "            nn.MaxPool2d(kernel_size = 2),\n",
    "            nn.Conv2d(32, 64, 5, stride =1, padding = 1, bias = True),\n",
    "            nn.BatchNorm2d(64),\n",
    "            nn.ReLU(),\n",
    "            nn.MaxPool2d(kernel_size = 2),\n",
    "            nn.Conv2d(64, 128, 5, stride =1, padding = 1, bias = True),\n",
    "            nn.BatchNorm2d(128),\n",
    "            nn.ReLU(),\n",
    "            nn.MaxPool2d(kernel_size = 2),\n",
    "            nn.Conv2d(128, 64, 5, stride = 1, padding = 2, bias = True),\n",
    "            nn.BatchNorm2d(64),\n",
    "            nn.ReLU(),\n",
    "            Flattener(),\n",
    "            nn.Linear(2*128, 100),\n",
    "            nn.BatchNorm1d(100),\n",
    "            nn.ReLU(),\n",
    "            nn.Linear(100, 10))\n",
    "        lenet_model_modif.type(torch.cuda.FloatTensor)\n",
    "        lenet_model_modif.to(device)\n",
    "        \n",
    "        loss = nn.CrossEntropyLoss().type(torch.cuda.FloatTensor)\n",
    "        optimizer = optim.Adam(lenet_model_modif.parameters(), lr=lr, weight_decay=reg)\n",
    "        \n",
    "        hprparams = Hyperparams(lr, reg)\n",
    "        optimizer = optim.Adam(lenet_model_modif.parameters(), lr=lr, weight_decay=reg)\n",
    "        loss_history, train_history, val_history = train_model_param(lenet_model_modif, train_aug_loader, val_loader, loss, optimizer, epoch_num, anneal_epoch, anneal_coeff)\n",
    "        reses = RunResult(lenet_model_modif, optimizer, train_history, val_history, val_history[-1])\n",
    "        run_record_param[hprparams] = reses"
   ]
  },
  {
   "cell_type": "code",
   "execution_count": 19,
   "metadata": {
    "colab": {
     "base_uri": "https://localhost:8080/",
     "height": 34
    },
    "colab_type": "code",
    "executionInfo": {
     "elapsed": 1224,
     "status": "ok",
     "timestamp": 1555098647259,
     "user": {
      "displayName": "John Dolgov",
      "photoUrl": "https://lh5.googleusercontent.com/-vdPwcgGlEA0/AAAAAAAAAAI/AAAAAAAAADo/agh7TOGwJQc/s64/photo.jpg",
      "userId": "14511337248298390024"
     },
     "user_tz": -180
    },
    "id": "tSVhD747icoc",
    "outputId": "f6762baf-3f6b-4e09-e49b-00c10508cffa"
   },
   "outputs": [
    {
     "name": "stdout",
     "output_type": "stream",
     "text": [
      "Best validation accuracy: 0.94, best hyperparams: Hyperparams(learning_rate=0.001, reg=0.0001)\n"
     ]
    }
   ],
   "source": [
    "best_model = None\n",
    "best_val_accuracy = None\n",
    "best_hyperparams = None\n",
    "best_run = None\n",
    "\n",
    "for hyperparams, run_result in run_record_param.items():\n",
    "    if best_val_accuracy is None or best_val_accuracy < run_result.final_val_accuracy:\n",
    "        best_val_accuracy = run_result.final_val_accuracy\n",
    "        best_hyperparams = hyperparams\n",
    "        best_run = run_result\n",
    "        best_model = run_result.model\n",
    "        \n",
    "print(\"Best validation accuracy: %4.2f, best hyperparams: %s\" % (best_val_accuracy, best_hyperparams))"
   ]
  },
  {
   "cell_type": "code",
   "execution_count": 0,
   "metadata": {
    "colab": {},
    "colab_type": "code",
    "id": "7SKRHPFNlB7c"
   },
   "outputs": [],
   "source": []
  },
  {
   "cell_type": "code",
   "execution_count": 20,
   "metadata": {
    "colab": {
     "base_uri": "https://localhost:8080/",
     "height": 34
    },
    "colab_type": "code",
    "executionInfo": {
     "elapsed": 10561,
     "status": "ok",
     "timestamp": 1555098665785,
     "user": {
      "displayName": "John Dolgov",
      "photoUrl": "https://lh5.googleusercontent.com/-vdPwcgGlEA0/AAAAAAAAAAI/AAAAAAAAADo/agh7TOGwJQc/s64/photo.jpg",
      "userId": "14511337248298390024"
     },
     "user_tz": -180
    },
    "id": "EIqM1kdeh-hd",
    "outputId": "6e53f5da-d559-4378-e560-51a63b1ca2b6"
   },
   "outputs": [
    {
     "name": "stdout",
     "output_type": "stream",
     "text": [
      "Final test accuracy -  0.9353103872157345\n"
     ]
    }
   ],
   "source": [
    "# TODO Write the code to compute accuracy on test set\n",
    "final_test_accuracy = 0.0\n",
    "batch_size = 64\n",
    "test_loader = torch.utils.data.DataLoader(data_test, batch_size=batch_size)\n",
    "final_test_accuracy = compute_accuracy(best_model, test_loader)\n",
    "print(\"Final test accuracy - \", final_test_accuracy)"
   ]
  }
 ],
 "metadata": {
  "accelerator": "GPU",
  "colab": {
   "collapsed_sections": [],
   "name": "PyTorch_CNN.ipynb",
   "provenance": [],
   "version": "0.3.2"
  },
  "kernelspec": {
   "display_name": "Python 3",
   "language": "python",
   "name": "python3"
  },
  "language_info": {
   "codemirror_mode": {
    "name": "ipython",
    "version": 3
   },
   "file_extension": ".py",
   "mimetype": "text/x-python",
   "name": "python",
   "nbconvert_exporter": "python",
   "pygments_lexer": "ipython3",
   "version": "3.7.1"
  }
 },
 "nbformat": 4,
 "nbformat_minor": 1
}
